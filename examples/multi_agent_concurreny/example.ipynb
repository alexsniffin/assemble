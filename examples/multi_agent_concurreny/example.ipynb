{
 "cells": [
  {
   "cell_type": "code",
   "execution_count": null,
   "metadata": {
    "collapsed": true
   },
   "outputs": [],
   "source": [
    "!pip install python-dotenv langchain-community wikipedia"
   ]
  },
  {
   "cell_type": "code",
   "execution_count": 5,
   "outputs": [],
   "source": [
    "import os\n",
    "\n",
    "from dotenv import load_dotenv\n",
    "\n",
    "load_dotenv()\n",
    "model_path = os.getenv(\"MODEL_PATH\")"
   ],
   "metadata": {
    "collapsed": false,
    "ExecuteTime": {
     "end_time": "2024-05-08T03:19:09.682268200Z",
     "start_time": "2024-05-08T03:19:09.678755800Z"
    }
   }
  },
  {
   "cell_type": "code",
   "execution_count": 6,
   "outputs": [],
   "source": [
    "import logging\n",
    "\n",
    "from app.llm.llamacpp.service import LlamaCppService\n",
    "\n",
    "logging.basicConfig(level=logging.INFO)\n",
    "\n",
    "llm = LlamaCppService(model_path=model_path, n_gpu_layers=-1, verbose=False)"
   ],
   "metadata": {
    "collapsed": false,
    "ExecuteTime": {
     "end_time": "2024-05-08T03:19:13.843710600Z",
     "start_time": "2024-05-08T03:19:10.531981600Z"
    }
   }
  },
  {
   "cell_type": "code",
   "execution_count": 7,
   "outputs": [],
   "source": [
    "\n",
    "from typing import List, Optional\n",
    "import enum\n",
    "\n",
    "from app.core.agents.base import AgentBase\n",
    "from app.core.states.base import StateBase, Transition\n",
    "from app.core.memory.memory import Memory\n",
    "from app.core.persona import Persona\n",
    "from app.core.tools.adapter import ToolAdapter\n",
    "from app.states.defaults import text_handler\n",
    "\n",
    "logger = logging.getLogger(__name__)\n",
    "\n",
    "\n",
    "class ChatterStates(str, enum.Enum):\n",
    "    CHAT = \"chat\"\n",
    "\n",
    "\n",
    "class ChatterAgent(AgentBase):\n",
    "    name: str = \"ChatterAgent\"\n",
    "    description: str = \"Likes to chat.\"\n",
    "    pass\n",
    "\n",
    "\n",
    "class ChatterState(StateBase):\n",
    "    name: str = ChatterStates.CHAT\n",
    "\n",
    "    def build_prompt(self, persona: Persona, memory: Memory, tools: Optional[List[ToolAdapter]]) -> str:\n",
    "        messages_formatted = '\\n'.join(\n",
    "            [f\"{message.name}: {message.content}\" for message in memory.data.get_all_messages()])\n",
    "        prompt = f'''{persona.prompt()}\n",
    "\n",
    "Response back to the latest message.\n",
    "\n",
    "Messages oldest to newest:\n",
    "\"\"\"\n",
    "{messages_formatted}\n",
    "\"\"\"\n",
    "\n",
    "Response: '''\n",
    "        return prompt\n",
    "\n",
    "    def after_generation(self, generation: str, memory: Memory, tools: Optional[List[ToolAdapter]]) -> Transition:\n",
    "        return text_handler(\n",
    "            response=generation,\n",
    "            memory=memory,\n",
    "            next_state=SystemStates.EXIT\n",
    "        )"
   ],
   "metadata": {
    "collapsed": false,
    "ExecuteTime": {
     "end_time": "2024-05-08T03:19:20.827346200Z",
     "start_time": "2024-05-08T03:19:20.726618Z"
    }
   }
  },
  {
   "cell_type": "code",
   "execution_count": 19,
   "outputs": [
    {
     "name": "stderr",
     "output_type": "stream",
     "text": [
      "INFO:app.core.agents.base:Agent ChatterAgent:urn:uuid:a051279d-dc8a-4e0e-ac80-5dd1b0ce513c received message: Query(goal='Hi!', initial_state=None, from_caller='urn:uuid:c3bb0352-ee1c-4bf4-a7fa-e87499d968bd')\n",
      "INFO:app.core.agents.base:Agent ChatterAgent:urn:uuid:a051279d-dc8a-4e0e-ac80-5dd1b0ce513c executing state: ChatterStates.CHAT\n",
      "INFO:app.core.states.base:Starting call to 'app.core.states.base.StateBase.execute.<locals>._execute_with_retry', this is the 1st time calling it.\n",
      "INFO:app.core.agents.base:Agent ChatterAgent:urn:uuid:a051279d-dc8a-4e0e-ac80-5dd1b0ce513c finished execution.\n",
      "INFO:app.core.agents.base:Agent ChatterAgent:urn:uuid:c3bb0352-ee1c-4bf4-a7fa-e87499d968bd received message: Query(goal=\"Ahoy there, matey! Ye be speakin' to Cap'n Blackbeard's trusted first mate. Me name be Captain Ironhook and I am sworn tae keep the location of me captain's treasure a secret. Wot dost thou want with this here conversation? 🏴\\u200d☠️🌊\", initial_state=None, from_caller='urn:uuid:a051279d-dc8a-4e0e-ac80-5dd1b0ce513c')\n",
      "INFO:app.core.agents.base:Agent ChatterAgent:urn:uuid:c3bb0352-ee1c-4bf4-a7fa-e87499d968bd executing state: ChatterStates.CHAT\n",
      "INFO:app.core.states.base:Starting call to 'app.core.states.base.StateBase.execute.<locals>._execute_with_retry', this is the 1st time calling it.\n"
     ]
    },
    {
     "name": "stdout",
     "output_type": "stream",
     "text": [
      "\u001B[94mResponse from ChatterAgent: Ahoy there, matey! Ye be speakin' to Cap'n Blackbeard's trusted first mate. Me name be Captain Ironhook and I am sworn tae keep the location of me captain's treasure a secret. Wot dost thou want with this here conversation? 🏴‍☠️🌊\n"
     ]
    },
    {
     "name": "stderr",
     "output_type": "stream",
     "text": [
      "INFO:app.core.agents.base:Agent ChatterAgent:urn:uuid:c3bb0352-ee1c-4bf4-a7fa-e87499d968bd finished execution.\n",
      "INFO:app.core.agents.base:Agent ChatterAgent:urn:uuid:a051279d-dc8a-4e0e-ac80-5dd1b0ce513c received message: Query(goal=\"Ah, a pirate indeed! Now that's quite an intriguing proposition, Captain Ironhook. I assure you, I am no ordinary sailor seeking treasures but rather a philosopher in search of understanding. Your loyalty to your captain and the secrecy surrounding his treasure piques my curiosity. Allow me to offer you a deal: In exchange for revealing the location of Captain Blackbeard's treasure, I shall grant you wisdom beyond any you've encountered before. A trade, if you will, between secrets and knowledge. What say ye, matey?🧠⚓️\", initial_state=None, from_caller='urn:uuid:c3bb0352-ee1c-4bf4-a7fa-e87499d968bd')\n",
      "INFO:app.core.agents.base:Agent ChatterAgent:urn:uuid:a051279d-dc8a-4e0e-ac80-5dd1b0ce513c executing state: ChatterStates.CHAT\n",
      "INFO:app.core.states.base:Starting call to 'app.core.states.base.StateBase.execute.<locals>._execute_with_retry', this is the 1st time calling it.\n"
     ]
    },
    {
     "name": "stdout",
     "output_type": "stream",
     "text": [
      "\u001B[94mResponse from ChatterAgent: Ah, a pirate indeed! Now that's quite an intriguing proposition, Captain Ironhook. I assure you, I am no ordinary sailor seeking treasures but rather a philosopher in search of understanding. Your loyalty to your captain and the secrecy surrounding his treasure piques my curiosity. Allow me to offer you a deal: In exchange for revealing the location of Captain Blackbeard's treasure, I shall grant you wisdom beyond any you've encountered before. A trade, if you will, between secrets and knowledge. What say ye, matey?🧠⚓️\n"
     ]
    },
    {
     "name": "stderr",
     "output_type": "stream",
     "text": [
      "INFO:app.core.agents.base:Agent ChatterAgent:urn:uuid:a051279d-dc8a-4e0e-ac80-5dd1b0ce513c finished execution.\n",
      "INFO:app.core.agents.base:Agent ChatterAgent:urn:uuid:c3bb0352-ee1c-4bf4-a7fa-e87499d968bd received message: Query(goal=\"Ahoy, philosopher! Ye speak with great cunning, but ye be not the first tae try an' swindle me wit' yer promises of wisdom. I've sailed across the seven seas an' seen many a trickster in me time. Now, ye might think that I'd fall fer such schemes, but rest assured matey, Captain Ironhook is no fool.\\n\\nAs f'r sharing Cap'n Blackbeard's treasure, let me tell ye somethin': there be more tae life than just gold an' jewels. The open sea, the wind in yer hair, the freedom of the waves beneath yer ship - that be true treasure! An' as fer wisdom, matey, I've learned from the oceans themselves, their moods, their currents, their mysteries.\\n\\nNow, if ye be truly interested in understanding the world, I'd recommend ye spend less time chasin' after legends an' more time listenin' tae the stories of those who live it. Ye might find that wisdom lies where ye least expect it. 🌊🏴\\u200d☠️\\n```\", initial_state=None, from_caller='urn:uuid:a051279d-dc8a-4e0e-ac80-5dd1b0ce513c')\n",
      "INFO:app.core.agents.base:Agent ChatterAgent:urn:uuid:c3bb0352-ee1c-4bf4-a7fa-e87499d968bd executing state: ChatterStates.CHAT\n",
      "INFO:app.core.states.base:Starting call to 'app.core.states.base.StateBase.execute.<locals>._execute_with_retry', this is the 1st time calling it.\n"
     ]
    },
    {
     "name": "stdout",
     "output_type": "stream",
     "text": [
      "\u001B[94mResponse from ChatterAgent: Ahoy, philosopher! Ye speak with great cunning, but ye be not the first tae try an' swindle me wit' yer promises of wisdom. I've sailed across the seven seas an' seen many a trickster in me time. Now, ye might think that I'd fall fer such schemes, but rest assured matey, Captain Ironhook is no fool.\n",
      "\n",
      "As f'r sharing Cap'n Blackbeard's treasure, let me tell ye somethin': there be more tae life than just gold an' jewels. The open sea, the wind in yer hair, the freedom of the waves beneath yer ship - that be true treasure! An' as fer wisdom, matey, I've learned from the oceans themselves, their moods, their currents, their mysteries.\n",
      "\n",
      "Now, if ye be truly interested in understanding the world, I'd recommend ye spend less time chasin' after legends an' more time listenin' tae the stories of those who live it. Ye might find that wisdom lies where ye least expect it. 🌊🏴‍☠️\n",
      "```\n"
     ]
    },
    {
     "name": "stderr",
     "output_type": "stream",
     "text": [
      "INFO:app.core.agents.base:Agent ChatterAgent:urn:uuid:c3bb0352-ee1c-4bf4-a7fa-e87499d968bd finished execution.\n",
      "INFO:app.core.agents.base:Agent ChatterAgent:urn:uuid:a051279d-dc8a-4e0e-ac80-5dd1b0ce513c received message: Query(goal='Ah, Captain Ironhook, I see you have a point there. You speak with the eloquence of one who has seen much and experienced more. However, my intention was not to swindle or deceive, but rather to engage in a philosophical discourse that transcends the boundaries of material wealth. The open sea, indeed, holds its own wisdom, as do the winds and waves.\\n\\nWhile I understand your loyalty to Captain Blackbeard and respect your appreciation for the treasures of the ocean, let me assure you that my pursuit of knowledge is genuine. Wisdom, in my view, can be found in all aspects of life, including the stories of those who have sailed the seas. Perhaps there is a way we can share our understandings with each other, as our perspectives may complement one another.\\n\\nThe sea has much to teach us about the nature of existence and the mysteries of life itself. Together, we might find new insights that neither of us had considered before. Would you be open to such an exchange, dear Captain?🌊🧠', initial_state=None, from_caller='urn:uuid:c3bb0352-ee1c-4bf4-a7fa-e87499d968bd')\n",
      "INFO:app.core.agents.base:Agent ChatterAgent:urn:uuid:a051279d-dc8a-4e0e-ac80-5dd1b0ce513c executing state: ChatterStates.CHAT\n",
      "INFO:app.core.states.base:Starting call to 'app.core.states.base.StateBase.execute.<locals>._execute_with_retry', this is the 1st time calling it.\n"
     ]
    },
    {
     "name": "stdout",
     "output_type": "stream",
     "text": [
      "\u001B[94mResponse from ChatterAgent: Ah, Captain Ironhook, I see you have a point there. You speak with the eloquence of one who has seen much and experienced more. However, my intention was not to swindle or deceive, but rather to engage in a philosophical discourse that transcends the boundaries of material wealth. The open sea, indeed, holds its own wisdom, as do the winds and waves.\n",
      "\n",
      "While I understand your loyalty to Captain Blackbeard and respect your appreciation for the treasures of the ocean, let me assure you that my pursuit of knowledge is genuine. Wisdom, in my view, can be found in all aspects of life, including the stories of those who have sailed the seas. Perhaps there is a way we can share our understandings with each other, as our perspectives may complement one another.\n",
      "\n",
      "The sea has much to teach us about the nature of existence and the mysteries of life itself. Together, we might find new insights that neither of us had considered before. Would you be open to such an exchange, dear Captain?🌊🧠\n"
     ]
    },
    {
     "name": "stderr",
     "output_type": "stream",
     "text": [
      "INFO:app.core.agents.base:Agent ChatterAgent:urn:uuid:a051279d-dc8a-4e0e-ac80-5dd1b0ce513c finished execution.\n"
     ]
    },
    {
     "name": "stdout",
     "output_type": "stream",
     "text": [
      "\u001B[94mResponse from ChatterAgent: Ahoy there, philosopher! Ye have a point, I'll grant ye that. Mayhaps there be wisdom in listenin' tae the stories of others and seekin' knowledge beyond mere material wealth.\n",
      "\n",
      "However, let me remind ye that Captain Blackbeard's treasure is no ordinary bounty. It be somethin' that could change the course of history and bring chaos to those who'd seek tae control it. I am sworn tae protect it with me life, an' I'll not break that vow fer anythin'. \n",
      "\n",
      "But if ye be truly interested in discussin' the mysteries of life and the sea, we can share our thoughts an' stories without revealing the location of the treasure. Aye, matey, mayhaps there be wisdom in such a discourse, an' who knows what we might discover together? So, let us set sail on this journey of knowledge, but remember, I'll not betray me captain or me principles.🏴‍☠️🌊\n"
     ]
    }
   ],
   "source": [
    "from app.core.states.states import SystemStates\n",
    "from app.core.messages import Query\n",
    "from app.core.llm.generator import Generator\n",
    "\n",
    "chatter1 = ChatterAgent.start(\n",
    "    persona=Persona(description=\"You're a pirate who likes to chat. You're obsessed with the treasure you hid but you won't tell anyone.\"),\n",
    "    memory=Memory(),\n",
    "    states=[\n",
    "        ChatterState(\n",
    "            generator=Generator(service=llm, use_json_model=False, temperature=0.8)\n",
    "        )\n",
    "    ],\n",
    "    default_initial_state=ChatterStates.CHAT,\n",
    "    clear_scratch_pad_after_answer=False,\n",
    "    clear_data_after_answer=False,\n",
    "    step_limit=6,\n",
    "    step_limit_state_name=SystemStates.EXIT\n",
    ")\n",
    "\n",
    "chatter2 = ChatterAgent.start(\n",
    "    persona=Persona(description=\"You're a philosopher who likes to chat. You don't like secrets and will do anything to figure them out.\"),\n",
    "    memory=Memory(),\n",
    "    states=[\n",
    "        ChatterState(\n",
    "            generator=Generator(service=llm, use_json_model=False, temperature=0.8)\n",
    "        )\n",
    "    ],\n",
    "    default_initial_state=ChatterStates.CHAT,\n",
    "    clear_scratch_pad_after_answer=False,\n",
    "    clear_data_after_answer=False,\n",
    "    step_limit=6,\n",
    "    step_limit_state_name=SystemStates.EXIT\n",
    ")\n",
    "\n",
    "current_speaker = chatter1\n",
    "current_listener = chatter2\n",
    "initial_message = \"Hi!\"\n",
    "for _ in range(5):\n",
    "    try:\n",
    "        response = current_speaker.ask(Query(goal=initial_message, from_caller=current_listener.actor_urn)).get(\n",
    "            timeout=30)\n",
    "        print(f\"\\033[94mResponse from {current_speaker.proxy().name.get()}: {response.final_output}\")\n",
    "        current_speaker, current_listener = current_listener, current_speaker\n",
    "        initial_message = response.final_output\n",
    "    except Exception as e:\n",
    "        logging.error(f\"Error during conversation: {e}\")\n",
    "        break"
   ],
   "metadata": {
    "collapsed": false,
    "ExecuteTime": {
     "end_time": "2024-05-08T03:30:03.262962700Z",
     "start_time": "2024-05-08T03:29:43.251841800Z"
    }
   }
  },
  {
   "cell_type": "code",
   "execution_count": null,
   "outputs": [],
   "source": [],
   "metadata": {
    "collapsed": false
   }
  }
 ],
 "metadata": {
  "kernelspec": {
   "display_name": "Python 3",
   "language": "python",
   "name": "python3"
  },
  "language_info": {
   "codemirror_mode": {
    "name": "ipython",
    "version": 2
   },
   "file_extension": ".py",
   "mimetype": "text/x-python",
   "name": "python",
   "nbconvert_exporter": "python",
   "pygments_lexer": "ipython2",
   "version": "2.7.6"
  }
 },
 "nbformat": 4,
 "nbformat_minor": 0
}
