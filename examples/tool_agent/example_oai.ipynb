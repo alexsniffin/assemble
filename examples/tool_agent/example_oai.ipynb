{
 "cells": [
  {
   "cell_type": "markdown",
   "source": [
    "# Tool Agent"
   ],
   "metadata": {
    "collapsed": false
   }
  },
  {
   "cell_type": "code",
   "execution_count": null,
   "outputs": [],
   "source": [
    "!pip install python-dotenv langchain-community wikipedia"
   ],
   "metadata": {
    "collapsed": false
   }
  },
  {
   "cell_type": "code",
   "execution_count": 2,
   "outputs": [],
   "source": [
    "from dotenv import load_dotenv\n",
    "import os\n",
    "\n",
    "load_dotenv()\n",
    "api_key = os.getenv(\"OPENAI_API_KEY\")"
   ],
   "metadata": {
    "collapsed": false,
    "ExecuteTime": {
     "end_time": "2024-05-04T23:49:09.902930300Z",
     "start_time": "2024-05-04T23:49:09.898340100Z"
    }
   }
  },
  {
   "cell_type": "code",
   "execution_count": 3,
   "outputs": [],
   "source": [
    "from typing import Optional, Dict, Any\n",
    "from memory import Memory\n",
    "from persona import Persona\n",
    "from llm.generator import Generator\n",
    "from llm.openai.service import OpenAIService\n",
    "from states.final_answer.factory import FinalAnswerFactory\n",
    "from states.state_node import StateNode, default_tools_handler\n",
    "from tools.langchain.wikipedia_query_run import LangchainWikipediaQueryRun\n",
    "\n",
    "\n",
    "llm = OpenAIService(api_key=api_key)\n",
    "tools = [LangchainWikipediaQueryRun()]\n",
    "\n",
    "final_answer_state = FinalAnswerFactory.get_state(Generator(llm))\n",
    "\n",
    "def search_prompt_handler(persona: Persona, memory: Memory, tool_schemas: Optional[Dict[str, Any]]) -> str:\n",
    "    return f'''{persona.prompt()}\n",
    "\n",
    "Search for information using your tools to help solve the following problem for the user.\n",
    "\n",
    "Problem:\n",
    "\"\"\"\n",
    "{memory.data.get(\"goal\")}\n",
    "\"\"\"\n",
    "\n",
    "Here are the schemas for the tools you have access to, pick only one:\n",
    "\"\"\"\n",
    "{tool_schemas}\n",
    "\"\"\"\n",
    "\n",
    "Respond with the JSON input for the tool of your choice to best solve the problem.'''\n",
    "\n",
    "\n",
    "search_state = StateNode(\n",
    "    name=\"search\",\n",
    "    prompt_handler=search_prompt_handler,\n",
    "    generation_handler=default_tools_handler(\n",
    "        next_state=final_answer_state.name,\n",
    "        exclude_from_scratch_pad=False\n",
    "    ),\n",
    "    generator=Generator(\n",
    "        service=llm,\n",
    "        use_json_model=True,\n",
    "        temperature=0.1,\n",
    "        max_tokens=512\n",
    "    ),\n",
    "    tools=tools,\n",
    ")\n"
   ],
   "metadata": {
    "collapsed": false,
    "ExecuteTime": {
     "end_time": "2024-05-04T23:49:10.527132200Z",
     "start_time": "2024-05-04T23:49:09.904928100Z"
    }
   }
  },
  {
   "cell_type": "code",
   "execution_count": 4,
   "metadata": {
    "collapsed": true,
    "ExecuteTime": {
     "end_time": "2024-05-04T23:49:16.675536200Z",
     "start_time": "2024-05-04T23:49:10.528347300Z"
    }
   },
   "outputs": [
    {
     "name": "stdout",
     "output_type": "stream",
     "text": [
      "[\n",
      "  {\n",
      "    \"name\": \"search\",\n",
      "    \"prompt\": \"You're an autonomous agent who solves problems in natural language. Use your knowledge to best answer the question.\\n\\nSearch for information using your tools to help solve the following problem for the user.\\n\\nProblem:\\n\\\"\\\"\\\"\\nSearch for information on autonomous planning and scheduling and give me a summary of it.\\n\\\"\\\"\\\"\\n\\nHere are the schemas for the tools you have access to, pick only one:\\n\\\"\\\"\\\"\\n[{'tool_name': 'wikipedia_query_run', 'tool_description': 'A tool for querying the Wikipedia API.', 'tool_parameters': {'description': 'The input to search for factual information on Wikipedia.', 'properties': {'tool_name': {'description': 'The name of the tool you choose to use.', 'title': 'Tool Name', 'type': 'string'}, 'query': {'title': 'Query', 'type': 'string'}}, 'required': ['tool_name', 'query'], 'title': 'WikipediaQueryInput', 'type': 'object'}}]\\n\\\"\\\"\\\"\\n\\nRespond with the JSON input for the tool of your choice to best solve the problem.\",\n",
      "    \"output\": \"Tool input: {\\n  \\\"tool_name\\\": \\\"wikipedia_query_run\\\",\\n  \\\"query\\\": \\\"Autonomous planning and scheduling\\\"\\n}\\nTool output: {\\\"tool_name\\\":\\\"wikipedia_query_run\\\",\\\"output\\\":\\\"Page: Automated planning and scheduling\\\\nSummary: Automated planning and scheduling, sometimes denoted as simply AI planning, is a branch of artificial intelligence that concerns the realization of strategies or action sequences, typically for execution by intelligent agents, autonomous robots and unmanned vehicles. Unlike classical control and classification problems, the solutions are complex and must be discovered and optimized in multidimensional space. Planning is also related to decision theory.\\\\nIn known environments with available models, planning can be done offline. Solutions can be found and evaluated prior to execution. In dynamically unknown environments, the strategy often needs to be revised online. Models and policies must be adapted. Solutions usually resort to iterative trial and error processes commonly seen in artificial intelligence. These include dynamic programming, reinforcement learning and combinatorial optimization. Languages used to describe planning and scheduling are often called a\\\"}\",\n",
      "    \"next\": \"final_answer\",\n",
      "    \"token_usage\": {\n",
      "      \"completion_tokens\": 24,\n",
      "      \"prompt_tokens\": 217,\n",
      "      \"total_tokens\": 241\n",
      "    }\n",
      "  },\n",
      "  {\n",
      "    \"name\": \"final_answer\",\n",
      "    \"prompt\": \"You're an autonomous agent who solves problems in natural language. Use your knowledge to best answer the question.\\n                \\nGiven the problem from the user and your notes, provide an answer using what you know.\\n\\nProblem:\\n\\\"\\\"\\\"\\nSearch for information on autonomous planning and scheduling and give me a summary of it.\\n\\\"\\\"\\\"\\n\\nNotes:\\n\\\"\\\"\\\"\\n- \\nsearch: Tool input: {\\n  \\\"tool_name\\\": \\\"wikipedia_query_run\\\",\\n  \\\"query\\\": \\\"Autonomous planning and scheduling\\\"\\n}\\nTool output: {\\\"tool_name\\\":\\\"wikipedia_query_run\\\",\\\"output\\\":\\\"Page: Automated planning and scheduling\\\\nSummary: Automated planning and scheduling, sometimes denoted as simply AI planning, is a branch of artificial intelligence that concerns the realization of strategies or action sequences, typically for execution by intelligent agents, autonomous robots and unmanned vehicles. Unlike classical control and classification problems, the solutions are complex and must be discovered and optimized in multidimensional space. Planning is also related to decision theory.\\\\nIn known environments with available models, planning can be done offline. Solutions can be found and evaluated prior to execution. In dynamically unknown environments, the strategy often needs to be revised online. Models and policies must be adapted. Solutions usually resort to iterative trial and error processes commonly seen in artificial intelligence. These include dynamic programming, reinforcement learning and combinatorial optimization. Languages used to describe planning and scheduling are often called a\\\"}\\n\\\"\\\"\\\"\\n\\nYour answer.\",\n",
      "    \"output\": \"Automated planning and scheduling, sometimes denoted as simply AI planning, is a branch of artificial intelligence that deals with creating strategies or action sequences for intelligent agents, autonomous robots, and unmanned vehicles. Unlike traditional control and classification problems, solutions in autonomous planning and scheduling are complex and need to be discovered and optimized in multidimensional space. Planning is closely related to decision theory.\\n\\nIn known environments with available models, planning can be done offline where solutions can be found and evaluated before execution. In dynamically unknown environments, strategies often need to be revised online, requiring adaptation of models and policies. Solutions typically involve iterative trial and error processes commonly seen in artificial intelligence, such as dynamic programming, reinforcement learning, and combinatorial optimization.\\n\\nLanguages used to describe planning and scheduling are often referred to as a.\",\n",
      "    \"next\": \"exit\",\n",
      "    \"token_usage\": {\n",
      "      \"completion_tokens\": 158,\n",
      "      \"prompt_tokens\": 285,\n",
      "      \"total_tokens\": 443\n",
      "    }\n",
      "  }\n",
      "]\n"
     ]
    }
   ],
   "source": [
    "from memory import Memory\n",
    "import json\n",
    "from agent import Agent, Query\n",
    "\n",
    "from persona import Persona\n",
    "\n",
    "persona = Persona(\n",
    "    description=\"You're an autonomous agent who solves problems in natural language. Use your knowledge to best answer the question.\")\n",
    "\n",
    "agent = Agent.start(name=\"ToolAgent\", persona=persona, memory=Memory(), state_nodes=[search_state, final_answer_state])\n",
    "\n",
    "response = agent.ask(Query(initial_state=\"search\",\n",
    "                           goal=\"Search for information on autonomous planning and scheduling and give me a summary of it.\"))\n",
    "print(json.dumps([step.model_dump() for step in response.steps], indent=2))\n",
    "\n",
    "agent.stop()"
   ]
  },
  {
   "cell_type": "code",
   "execution_count": null,
   "outputs": [],
   "source": [
    "!pip install mermaid-py"
   ],
   "metadata": {
    "collapsed": false
   }
  },
  {
   "cell_type": "code",
   "execution_count": 6,
   "outputs": [
    {
     "data": {
      "text/plain": "<mermaid._main.Mermaid at 0x98a1350>",
      "text/html": "<svg id=\"mermaid-svg\" width=\"100%\" xmlns=\"http://www.w3.org/2000/svg\" style=\"max-width: 122.21875px;\" viewBox=\"-8 -8 122.21875 302\" role=\"graphics-document document\" aria-roledescription=\"flowchart-v2\" xmlns:xlink=\"http://www.w3.org/1999/xlink\"><style xmlns=\"http://www.w3.org/1999/xhtml\">@import url(\"https://cdnjs.cloudflare.com/ajax/libs/font-awesome/6.5.2/css/all.min.css\");</style><style>#mermaid-svg{font-family:\"trebuchet ms\",verdana,arial,sans-serif;font-size:16px;fill:#333;}#mermaid-svg .error-icon{fill:#552222;}#mermaid-svg .error-text{fill:#552222;stroke:#552222;}#mermaid-svg .edge-thickness-normal{stroke-width:2px;}#mermaid-svg .edge-thickness-thick{stroke-width:3.5px;}#mermaid-svg .edge-pattern-solid{stroke-dasharray:0;}#mermaid-svg .edge-pattern-dashed{stroke-dasharray:3;}#mermaid-svg .edge-pattern-dotted{stroke-dasharray:2;}#mermaid-svg .marker{fill:#333333;stroke:#333333;}#mermaid-svg .marker.cross{stroke:#333333;}#mermaid-svg svg{font-family:\"trebuchet ms\",verdana,arial,sans-serif;font-size:16px;}#mermaid-svg .label{font-family:\"trebuchet ms\",verdana,arial,sans-serif;color:#333;}#mermaid-svg .cluster-label text{fill:#333;}#mermaid-svg .cluster-label span,#mermaid-svg p{color:#333;}#mermaid-svg .label text,#mermaid-svg span,#mermaid-svg p{fill:#333;color:#333;}#mermaid-svg .node rect,#mermaid-svg .node circle,#mermaid-svg .node ellipse,#mermaid-svg .node polygon,#mermaid-svg .node path{fill:#ECECFF;stroke:#9370DB;stroke-width:1px;}#mermaid-svg .flowchart-label text{text-anchor:middle;}#mermaid-svg .node .katex path{fill:#000;stroke:#000;stroke-width:1px;}#mermaid-svg .node .label{text-align:center;}#mermaid-svg .node.clickable{cursor:pointer;}#mermaid-svg .arrowheadPath{fill:#333333;}#mermaid-svg .edgePath .path{stroke:#333333;stroke-width:2.0px;}#mermaid-svg .flowchart-link{stroke:#333333;fill:none;}#mermaid-svg .edgeLabel{background-color:#e8e8e8;text-align:center;}#mermaid-svg .edgeLabel rect{opacity:0.5;background-color:#e8e8e8;fill:#e8e8e8;}#mermaid-svg .labelBkg{background-color:rgba(232, 232, 232, 0.5);}#mermaid-svg .cluster rect{fill:#ffffde;stroke:#aaaa33;stroke-width:1px;}#mermaid-svg .cluster text{fill:#333;}#mermaid-svg .cluster span,#mermaid-svg p{color:#333;}#mermaid-svg div.mermaidTooltip{position:absolute;text-align:center;max-width:200px;padding:2px;font-family:\"trebuchet ms\",verdana,arial,sans-serif;font-size:12px;background:hsl(80, 100%, 96.2745098039%);border:1px solid #aaaa33;border-radius:2px;pointer-events:none;z-index:100;}#mermaid-svg .flowchartTitleText{text-anchor:middle;font-size:18px;fill:#333;}#mermaid-svg :root{--mermaid-font-family:\"trebuchet ms\",verdana,arial,sans-serif;}#mermaid-svg .stateNode&gt;*{fill:#fff!important;stroke:#333!important;stroke-width:2px!important;color:#000!important;}#mermaid-svg .stateNode span{fill:#fff!important;stroke:#333!important;stroke-width:2px!important;color:#000!important;}#mermaid-svg .stateNode tspan{fill:#000!important;}</style><g><marker id=\"mermaid-svg_flowchart-pointEnd\" class=\"marker flowchart\" viewBox=\"0 0 10 10\" refX=\"6\" refY=\"5\" markerUnits=\"userSpaceOnUse\" markerWidth=\"12\" markerHeight=\"12\" orient=\"auto\"><path d=\"M 0 0 L 10 5 L 0 10 z\" class=\"arrowMarkerPath\" style=\"stroke-width: 1; stroke-dasharray: 1, 0;\"/></marker><marker id=\"mermaid-svg_flowchart-pointStart\" class=\"marker flowchart\" viewBox=\"0 0 10 10\" refX=\"4.5\" refY=\"5\" markerUnits=\"userSpaceOnUse\" markerWidth=\"12\" markerHeight=\"12\" orient=\"auto\"><path d=\"M 0 5 L 10 10 L 10 0 z\" class=\"arrowMarkerPath\" style=\"stroke-width: 1; stroke-dasharray: 1, 0;\"/></marker><marker id=\"mermaid-svg_flowchart-circleEnd\" class=\"marker flowchart\" viewBox=\"0 0 10 10\" refX=\"11\" refY=\"5\" markerUnits=\"userSpaceOnUse\" markerWidth=\"11\" markerHeight=\"11\" orient=\"auto\"><circle cx=\"5\" cy=\"5\" r=\"5\" class=\"arrowMarkerPath\" style=\"stroke-width: 1; stroke-dasharray: 1, 0;\"/></marker><marker id=\"mermaid-svg_flowchart-circleStart\" class=\"marker flowchart\" viewBox=\"0 0 10 10\" refX=\"-1\" refY=\"5\" markerUnits=\"userSpaceOnUse\" markerWidth=\"11\" markerHeight=\"11\" orient=\"auto\"><circle cx=\"5\" cy=\"5\" r=\"5\" class=\"arrowMarkerPath\" style=\"stroke-width: 1; stroke-dasharray: 1, 0;\"/></marker><marker id=\"mermaid-svg_flowchart-crossEnd\" class=\"marker cross flowchart\" viewBox=\"0 0 11 11\" refX=\"12\" refY=\"5.2\" markerUnits=\"userSpaceOnUse\" markerWidth=\"11\" markerHeight=\"11\" orient=\"auto\"><path d=\"M 1,1 l 9,9 M 10,1 l -9,9\" class=\"arrowMarkerPath\" style=\"stroke-width: 2; stroke-dasharray: 1, 0;\"/></marker><marker id=\"mermaid-svg_flowchart-crossStart\" class=\"marker cross flowchart\" viewBox=\"0 0 11 11\" refX=\"-1\" refY=\"5.2\" markerUnits=\"userSpaceOnUse\" markerWidth=\"11\" markerHeight=\"11\" orient=\"auto\"><path d=\"M 1,1 l 9,9 M 10,1 l -9,9\" class=\"arrowMarkerPath\" style=\"stroke-width: 2; stroke-dasharray: 1, 0;\"/></marker><g class=\"root\"><g class=\"clusters\"/><g class=\"edgePaths\"><path d=\"M53.109,34L53.109,38.167C53.109,42.333,53.109,50.667,53.109,58.117C53.109,65.567,53.109,72.133,53.109,75.417L53.109,78.7\" id=\"L-goal-search-0\" class=\" edge-thickness-normal edge-pattern-solid flowchart-link LS-goal LE-search\" style=\"fill:none;\" marker-end=\"url(#mermaid-svg_flowchart-pointEnd)\"/><path d=\"M53.109,118L53.109,122.167C53.109,126.333,53.109,134.667,53.109,142.117C53.109,149.567,53.109,156.133,53.109,159.417L53.109,162.7\" id=\"L-search-final_answer-0\" class=\" edge-thickness-normal edge-pattern-solid flowchart-link LS-search LE-final_answer\" style=\"fill:none;\" marker-end=\"url(#mermaid-svg_flowchart-pointEnd)\"/><path d=\"M53.109,202L53.109,206.167C53.109,210.333,53.109,218.667,53.109,226.117C53.109,233.567,53.109,240.133,53.109,243.417L53.109,246.7\" id=\"L-final_answer-exit-0\" class=\" edge-thickness-normal edge-pattern-solid flowchart-link LS-final_answer LE-exit\" style=\"fill:none;\" marker-end=\"url(#mermaid-svg_flowchart-pointEnd)\"/></g><g class=\"edgeLabels\"><g class=\"edgeLabel\"><g class=\"label\" transform=\"translate(0, 0)\"><foreignObject width=\"0\" height=\"0\"><div xmlns=\"http://www.w3.org/1999/xhtml\" style=\"display: inline-block; white-space: nowrap;\"><span class=\"edgeLabel\"></span></div></foreignObject></g></g><g class=\"edgeLabel\"><g class=\"label\" transform=\"translate(0, 0)\"><foreignObject width=\"0\" height=\"0\"><div xmlns=\"http://www.w3.org/1999/xhtml\" style=\"display: inline-block; white-space: nowrap;\"><span class=\"edgeLabel\"></span></div></foreignObject></g></g><g class=\"edgeLabel\"><g class=\"label\" transform=\"translate(0, 0)\"><foreignObject width=\"0\" height=\"0\"><div xmlns=\"http://www.w3.org/1999/xhtml\" style=\"display: inline-block; white-space: nowrap;\"><span class=\"edgeLabel\"></span></div></foreignObject></g></g></g><g class=\"nodes\"><g class=\"node default default flowchart-label\" id=\"flowchart-goal-0\" data-node=\"true\" data-id=\"goal\" transform=\"translate(53.109375, 17)\"><rect class=\"basic label-container\" style=\"\" rx=\"0\" ry=\"0\" x=\"-22.375\" y=\"-17\" width=\"44.75\" height=\"34\"/><g class=\"label\" style=\"\" transform=\"translate(-14.875, -9.5)\"><rect/><foreignObject width=\"29.75\" height=\"19\"><div xmlns=\"http://www.w3.org/1999/xhtml\" style=\"display: inline-block; white-space: nowrap;\"><span class=\"nodeLabel\">goal</span></div></foreignObject></g></g><g class=\"node default default flowchart-label\" id=\"flowchart-search-1\" data-node=\"true\" data-id=\"search\" transform=\"translate(53.109375, 101)\"><rect class=\"basic label-container\" style=\"\" rx=\"0\" ry=\"0\" x=\"-30.75\" y=\"-17\" width=\"61.5\" height=\"34\"/><g class=\"label\" style=\"\" transform=\"translate(-23.25, -9.5)\"><rect/><foreignObject width=\"46.5\" height=\"19\"><div xmlns=\"http://www.w3.org/1999/xhtml\" style=\"display: inline-block; white-space: nowrap;\"><span class=\"nodeLabel\">search</span></div></foreignObject></g></g><g class=\"node default default flowchart-label\" id=\"flowchart-final_answer-3\" data-node=\"true\" data-id=\"final_answer\" transform=\"translate(53.109375, 185)\"><rect class=\"basic label-container\" style=\"\" rx=\"0\" ry=\"0\" x=\"-53.109375\" y=\"-17\" width=\"106.21875\" height=\"34\"/><g class=\"label\" style=\"\" transform=\"translate(-45.609375, -9.5)\"><rect/><foreignObject width=\"91.21875\" height=\"19\"><div xmlns=\"http://www.w3.org/1999/xhtml\" style=\"display: inline-block; white-space: nowrap;\"><span class=\"nodeLabel\">final_answer</span></div></foreignObject></g></g><g class=\"node default default flowchart-label\" id=\"flowchart-exit-5\" data-node=\"true\" data-id=\"exit\" transform=\"translate(53.109375, 269)\"><rect class=\"basic label-container\" style=\"\" rx=\"0\" ry=\"0\" x=\"-21.328125\" y=\"-17\" width=\"42.65625\" height=\"34\"/><g class=\"label\" style=\"\" transform=\"translate(-13.828125, -9.5)\"><rect/><foreignObject width=\"27.65625\" height=\"19\"><div xmlns=\"http://www.w3.org/1999/xhtml\" style=\"display: inline-block; white-space: nowrap;\"><span class=\"nodeLabel\">exit</span></div></foreignObject></g></g></g></g></g></svg>"
     },
     "execution_count": 6,
     "metadata": {},
     "output_type": "execute_result"
    }
   ],
   "source": [
    "import mermaid as md\n",
    "from mermaid.graph import Graph\n",
    "\n",
    "graph: Graph = Graph('example',\"\"\"\n",
    "graph TD;\n",
    "    goal --> search\n",
    "    search --> final_answer\n",
    "    final_answer --> exit\n",
    "\n",
    "    classDef stateNode fill:#fff,stroke:#333,stroke-width:2px,color:#000;\n",
    "\"\"\")\n",
    "graphe: md.Mermaid = md.Mermaid(graph)\n",
    "graphe"
   ],
   "metadata": {
    "collapsed": false,
    "ExecuteTime": {
     "end_time": "2024-05-04T23:49:18.008217Z",
     "start_time": "2024-05-04T23:49:17.662629800Z"
    }
   }
  }
 ],
 "metadata": {
  "kernelspec": {
   "display_name": "Python 3",
   "language": "python",
   "name": "python3"
  },
  "language_info": {
   "codemirror_mode": {
    "name": "ipython",
    "version": 2
   },
   "file_extension": ".py",
   "mimetype": "text/x-python",
   "name": "python",
   "nbconvert_exporter": "python",
   "pygments_lexer": "ipython2",
   "version": "2.7.6"
  }
 },
 "nbformat": 4,
 "nbformat_minor": 0
}
