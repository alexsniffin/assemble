{
 "cells": [
  {
   "cell_type": "markdown",
   "source": [
    "# Tool Agent"
   ],
   "metadata": {
    "collapsed": false
   }
  },
  {
   "cell_type": "code",
   "execution_count": 1,
   "outputs": [
    {
     "name": "stdout",
     "output_type": "stream",
     "text": [
      "Requirement already satisfied: python-dotenv in c:\\users\\alexander\\appdata\\local\\pypoetry\\cache\\virtualenvs\\assemble-qevgtavi-py3.11\\lib\\site-packages (1.0.1)\n",
      "Requirement already satisfied: langchain-community in c:\\users\\alexander\\appdata\\local\\pypoetry\\cache\\virtualenvs\\assemble-qevgtavi-py3.11\\lib\\site-packages (0.0.36)\n",
      "Requirement already satisfied: wikipedia in c:\\users\\alexander\\appdata\\local\\pypoetry\\cache\\virtualenvs\\assemble-qevgtavi-py3.11\\lib\\site-packages (1.4.0)\n",
      "Requirement already satisfied: PyYAML>=5.3 in c:\\users\\alexander\\appdata\\local\\pypoetry\\cache\\virtualenvs\\assemble-qevgtavi-py3.11\\lib\\site-packages (from langchain-community) (6.0.1)\n",
      "Requirement already satisfied: SQLAlchemy<3,>=1.4 in c:\\users\\alexander\\appdata\\local\\pypoetry\\cache\\virtualenvs\\assemble-qevgtavi-py3.11\\lib\\site-packages (from langchain-community) (2.0.30)\n",
      "Requirement already satisfied: aiohttp<4.0.0,>=3.8.3 in c:\\users\\alexander\\appdata\\local\\pypoetry\\cache\\virtualenvs\\assemble-qevgtavi-py3.11\\lib\\site-packages (from langchain-community) (3.9.5)\n",
      "Requirement already satisfied: dataclasses-json<0.7,>=0.5.7 in c:\\users\\alexander\\appdata\\local\\pypoetry\\cache\\virtualenvs\\assemble-qevgtavi-py3.11\\lib\\site-packages (from langchain-community) (0.6.5)\n",
      "Requirement already satisfied: langchain-core<0.2.0,>=0.1.48 in c:\\users\\alexander\\appdata\\local\\pypoetry\\cache\\virtualenvs\\assemble-qevgtavi-py3.11\\lib\\site-packages (from langchain-community) (0.1.50)\n",
      "Requirement already satisfied: langsmith<0.2.0,>=0.1.0 in c:\\users\\alexander\\appdata\\local\\pypoetry\\cache\\virtualenvs\\assemble-qevgtavi-py3.11\\lib\\site-packages (from langchain-community) (0.1.54)\n",
      "Requirement already satisfied: numpy<2,>=1 in c:\\users\\alexander\\appdata\\local\\pypoetry\\cache\\virtualenvs\\assemble-qevgtavi-py3.11\\lib\\site-packages (from langchain-community) (1.26.4)\n",
      "Requirement already satisfied: requests<3,>=2 in c:\\users\\alexander\\appdata\\local\\pypoetry\\cache\\virtualenvs\\assemble-qevgtavi-py3.11\\lib\\site-packages (from langchain-community) (2.31.0)\n",
      "Requirement already satisfied: tenacity<9.0.0,>=8.1.0 in c:\\users\\alexander\\appdata\\local\\pypoetry\\cache\\virtualenvs\\assemble-qevgtavi-py3.11\\lib\\site-packages (from langchain-community) (8.2.3)\n",
      "Requirement already satisfied: beautifulsoup4 in c:\\users\\alexander\\appdata\\local\\pypoetry\\cache\\virtualenvs\\assemble-qevgtavi-py3.11\\lib\\site-packages (from wikipedia) (4.12.3)\n",
      "Requirement already satisfied: aiosignal>=1.1.2 in c:\\users\\alexander\\appdata\\local\\pypoetry\\cache\\virtualenvs\\assemble-qevgtavi-py3.11\\lib\\site-packages (from aiohttp<4.0.0,>=3.8.3->langchain-community) (1.3.1)\n",
      "Requirement already satisfied: attrs>=17.3.0 in c:\\users\\alexander\\appdata\\local\\pypoetry\\cache\\virtualenvs\\assemble-qevgtavi-py3.11\\lib\\site-packages (from aiohttp<4.0.0,>=3.8.3->langchain-community) (23.2.0)\n",
      "Requirement already satisfied: frozenlist>=1.1.1 in c:\\users\\alexander\\appdata\\local\\pypoetry\\cache\\virtualenvs\\assemble-qevgtavi-py3.11\\lib\\site-packages (from aiohttp<4.0.0,>=3.8.3->langchain-community) (1.4.1)\n",
      "Requirement already satisfied: multidict<7.0,>=4.5 in c:\\users\\alexander\\appdata\\local\\pypoetry\\cache\\virtualenvs\\assemble-qevgtavi-py3.11\\lib\\site-packages (from aiohttp<4.0.0,>=3.8.3->langchain-community) (6.0.5)\n",
      "Requirement already satisfied: yarl<2.0,>=1.0 in c:\\users\\alexander\\appdata\\local\\pypoetry\\cache\\virtualenvs\\assemble-qevgtavi-py3.11\\lib\\site-packages (from aiohttp<4.0.0,>=3.8.3->langchain-community) (1.9.4)\n",
      "Requirement already satisfied: marshmallow<4.0.0,>=3.18.0 in c:\\users\\alexander\\appdata\\local\\pypoetry\\cache\\virtualenvs\\assemble-qevgtavi-py3.11\\lib\\site-packages (from dataclasses-json<0.7,>=0.5.7->langchain-community) (3.21.2)\n",
      "Requirement already satisfied: typing-inspect<1,>=0.4.0 in c:\\users\\alexander\\appdata\\local\\pypoetry\\cache\\virtualenvs\\assemble-qevgtavi-py3.11\\lib\\site-packages (from dataclasses-json<0.7,>=0.5.7->langchain-community) (0.9.0)\n",
      "Requirement already satisfied: jsonpatch<2.0,>=1.33 in c:\\users\\alexander\\appdata\\local\\pypoetry\\cache\\virtualenvs\\assemble-qevgtavi-py3.11\\lib\\site-packages (from langchain-core<0.2.0,>=0.1.48->langchain-community) (1.33)\n",
      "Requirement already satisfied: packaging<24.0,>=23.2 in c:\\users\\alexander\\appdata\\local\\pypoetry\\cache\\virtualenvs\\assemble-qevgtavi-py3.11\\lib\\site-packages (from langchain-core<0.2.0,>=0.1.48->langchain-community) (23.2)\n",
      "Requirement already satisfied: pydantic<3,>=1 in c:\\users\\alexander\\appdata\\local\\pypoetry\\cache\\virtualenvs\\assemble-qevgtavi-py3.11\\lib\\site-packages (from langchain-core<0.2.0,>=0.1.48->langchain-community) (2.7.1)\n",
      "Requirement already satisfied: orjson<4.0.0,>=3.9.14 in c:\\users\\alexander\\appdata\\local\\pypoetry\\cache\\virtualenvs\\assemble-qevgtavi-py3.11\\lib\\site-packages (from langsmith<0.2.0,>=0.1.0->langchain-community) (3.10.3)\n",
      "Requirement already satisfied: charset-normalizer<4,>=2 in c:\\users\\alexander\\appdata\\local\\pypoetry\\cache\\virtualenvs\\assemble-qevgtavi-py3.11\\lib\\site-packages (from requests<3,>=2->langchain-community) (3.3.2)\n",
      "Requirement already satisfied: idna<4,>=2.5 in c:\\users\\alexander\\appdata\\local\\pypoetry\\cache\\virtualenvs\\assemble-qevgtavi-py3.11\\lib\\site-packages (from requests<3,>=2->langchain-community) (3.7)\n",
      "Requirement already satisfied: urllib3<3,>=1.21.1 in c:\\users\\alexander\\appdata\\local\\pypoetry\\cache\\virtualenvs\\assemble-qevgtavi-py3.11\\lib\\site-packages (from requests<3,>=2->langchain-community) (2.2.1)\n",
      "Requirement already satisfied: certifi>=2017.4.17 in c:\\users\\alexander\\appdata\\local\\pypoetry\\cache\\virtualenvs\\assemble-qevgtavi-py3.11\\lib\\site-packages (from requests<3,>=2->langchain-community) (2024.2.2)\n",
      "Requirement already satisfied: typing-extensions>=4.6.0 in c:\\users\\alexander\\appdata\\local\\pypoetry\\cache\\virtualenvs\\assemble-qevgtavi-py3.11\\lib\\site-packages (from SQLAlchemy<3,>=1.4->langchain-community) (4.11.0)\n",
      "Requirement already satisfied: greenlet!=0.4.17 in c:\\users\\alexander\\appdata\\local\\pypoetry\\cache\\virtualenvs\\assemble-qevgtavi-py3.11\\lib\\site-packages (from SQLAlchemy<3,>=1.4->langchain-community) (3.0.3)\n",
      "Requirement already satisfied: soupsieve>1.2 in c:\\users\\alexander\\appdata\\local\\pypoetry\\cache\\virtualenvs\\assemble-qevgtavi-py3.11\\lib\\site-packages (from beautifulsoup4->wikipedia) (2.5)\n",
      "Requirement already satisfied: jsonpointer>=1.9 in c:\\users\\alexander\\appdata\\local\\pypoetry\\cache\\virtualenvs\\assemble-qevgtavi-py3.11\\lib\\site-packages (from jsonpatch<2.0,>=1.33->langchain-core<0.2.0,>=0.1.48->langchain-community) (2.4)\n",
      "Requirement already satisfied: annotated-types>=0.4.0 in c:\\users\\alexander\\appdata\\local\\pypoetry\\cache\\virtualenvs\\assemble-qevgtavi-py3.11\\lib\\site-packages (from pydantic<3,>=1->langchain-core<0.2.0,>=0.1.48->langchain-community) (0.6.0)\n",
      "Requirement already satisfied: pydantic-core==2.18.2 in c:\\users\\alexander\\appdata\\local\\pypoetry\\cache\\virtualenvs\\assemble-qevgtavi-py3.11\\lib\\site-packages (from pydantic<3,>=1->langchain-core<0.2.0,>=0.1.48->langchain-community) (2.18.2)\n",
      "Requirement already satisfied: mypy-extensions>=0.3.0 in c:\\users\\alexander\\appdata\\local\\pypoetry\\cache\\virtualenvs\\assemble-qevgtavi-py3.11\\lib\\site-packages (from typing-inspect<1,>=0.4.0->dataclasses-json<0.7,>=0.5.7->langchain-community) (1.0.0)\n"
     ]
    },
    {
     "name": "stderr",
     "output_type": "stream",
     "text": [
      "\n",
      "[notice] A new release of pip is available: 23.3.1 -> 24.0\n",
      "[notice] To update, run: python.exe -m pip install --upgrade pip\n"
     ]
    }
   ],
   "source": [
    "!pip install python-dotenv langchain-community wikipedia"
   ],
   "metadata": {
    "collapsed": false,
    "ExecuteTime": {
     "end_time": "2024-05-06T17:19:14.762540800Z",
     "start_time": "2024-05-06T17:19:13.595195200Z"
    }
   }
  },
  {
   "cell_type": "code",
   "execution_count": 2,
   "outputs": [],
   "source": [
    "from dotenv import load_dotenv\n",
    "import os\n",
    "\n",
    "load_dotenv()\n",
    "model_path = os.getenv(\"MODEL_PATH\")"
   ],
   "metadata": {
    "collapsed": false,
    "ExecuteTime": {
     "end_time": "2024-05-06T17:19:14.767938100Z",
     "start_time": "2024-05-06T17:19:14.762485600Z"
    }
   }
  },
  {
   "cell_type": "code",
   "execution_count": 3,
   "outputs": [
    {
     "name": "stderr",
     "output_type": "stream",
     "text": [
      "INFO:__main__:Model path: D:\\llm-models\\NousResearch\\Hermes-2-Pro-Llama-3-8B-GGUF\\Hermes-2-Pro-Llama-3-8B-Q8_0.gguf\n",
      "llama_model_loader: loaded meta data with 23 key-value pairs and 291 tensors from D:\\llm-models\\NousResearch\\Hermes-2-Pro-Llama-3-8B-GGUF\\Hermes-2-Pro-Llama-3-8B-Q8_0.gguf (version GGUF V3 (latest))\n",
      "llama_model_loader: Dumping metadata keys/values. Note: KV overrides do not apply in this output.\n",
      "llama_model_loader: - kv   0:                       general.architecture str              = llama\n",
      "llama_model_loader: - kv   1:                               general.name str              = Hermes-2-Pro-Llama-3-8B\n",
      "llama_model_loader: - kv   2:                          llama.block_count u32              = 32\n",
      "llama_model_loader: - kv   3:                       llama.context_length u32              = 8192\n",
      "llama_model_loader: - kv   4:                     llama.embedding_length u32              = 4096\n",
      "llama_model_loader: - kv   5:                  llama.feed_forward_length u32              = 14336\n",
      "llama_model_loader: - kv   6:                 llama.attention.head_count u32              = 32\n",
      "llama_model_loader: - kv   7:              llama.attention.head_count_kv u32              = 8\n",
      "llama_model_loader: - kv   8:                       llama.rope.freq_base f32              = 500000.000000\n",
      "llama_model_loader: - kv   9:     llama.attention.layer_norm_rms_epsilon f32              = 0.000010\n",
      "llama_model_loader: - kv  10:                          general.file_type u32              = 7\n",
      "llama_model_loader: - kv  11:                           llama.vocab_size u32              = 128288\n",
      "llama_model_loader: - kv  12:                 llama.rope.dimension_count u32              = 128\n",
      "llama_model_loader: - kv  13:                       tokenizer.ggml.model str              = gpt2\n",
      "llama_model_loader: - kv  14:                         tokenizer.ggml.pre str              = llama-bpe\n",
      "llama_model_loader: - kv  15:                      tokenizer.ggml.tokens arr[str,128288]  = [\"!\", \"\\\"\", \"#\", \"$\", \"%\", \"&\", \"'\", ...\n",
      "llama_model_loader: - kv  16:                  tokenizer.ggml.token_type arr[i32,128288]  = [1, 1, 1, 1, 1, 1, 1, 1, 1, 1, 1, 1, ...\n",
      "llama_model_loader: - kv  17:                      tokenizer.ggml.merges arr[str,280147]  = [\"Ġ Ġ\", \"Ġ ĠĠĠ\", \"ĠĠ ĠĠ\", \"...\n",
      "llama_model_loader: - kv  18:                tokenizer.ggml.bos_token_id u32              = 128000\n",
      "llama_model_loader: - kv  19:                tokenizer.ggml.eos_token_id u32              = 128003\n",
      "llama_model_loader: - kv  20:            tokenizer.ggml.padding_token_id u32              = 128001\n",
      "llama_model_loader: - kv  21:                    tokenizer.chat_template str              = {{bos_token}}{% for message in messag...\n",
      "llama_model_loader: - kv  22:               general.quantization_version u32              = 2\n",
      "llama_model_loader: - type  f32:   65 tensors\n",
      "llama_model_loader: - type q8_0:  226 tensors\n",
      "llm_load_vocab: special tokens definition check successful ( 288/128288 ).\n",
      "llm_load_print_meta: format           = GGUF V3 (latest)\n",
      "llm_load_print_meta: arch             = llama\n",
      "llm_load_print_meta: vocab type       = BPE\n",
      "llm_load_print_meta: n_vocab          = 128288\n",
      "llm_load_print_meta: n_merges         = 280147\n",
      "llm_load_print_meta: n_ctx_train      = 8192\n",
      "llm_load_print_meta: n_embd           = 4096\n",
      "llm_load_print_meta: n_head           = 32\n",
      "llm_load_print_meta: n_head_kv        = 8\n",
      "llm_load_print_meta: n_layer          = 32\n",
      "llm_load_print_meta: n_rot            = 128\n",
      "llm_load_print_meta: n_embd_head_k    = 128\n",
      "llm_load_print_meta: n_embd_head_v    = 128\n",
      "llm_load_print_meta: n_gqa            = 4\n",
      "llm_load_print_meta: n_embd_k_gqa     = 1024\n",
      "llm_load_print_meta: n_embd_v_gqa     = 1024\n",
      "llm_load_print_meta: f_norm_eps       = 0.0e+00\n",
      "llm_load_print_meta: f_norm_rms_eps   = 1.0e-05\n",
      "llm_load_print_meta: f_clamp_kqv      = 0.0e+00\n",
      "llm_load_print_meta: f_max_alibi_bias = 0.0e+00\n",
      "llm_load_print_meta: f_logit_scale    = 0.0e+00\n",
      "llm_load_print_meta: n_ff             = 14336\n",
      "llm_load_print_meta: n_expert         = 0\n",
      "llm_load_print_meta: n_expert_used    = 0\n",
      "llm_load_print_meta: causal attn      = 1\n",
      "llm_load_print_meta: pooling type     = 0\n",
      "llm_load_print_meta: rope type        = 0\n",
      "llm_load_print_meta: rope scaling     = linear\n",
      "llm_load_print_meta: freq_base_train  = 500000.0\n",
      "llm_load_print_meta: freq_scale_train = 1\n",
      "llm_load_print_meta: n_yarn_orig_ctx  = 8192\n",
      "llm_load_print_meta: rope_finetuned   = unknown\n",
      "llm_load_print_meta: ssm_d_conv       = 0\n",
      "llm_load_print_meta: ssm_d_inner      = 0\n",
      "llm_load_print_meta: ssm_d_state      = 0\n",
      "llm_load_print_meta: ssm_dt_rank      = 0\n",
      "llm_load_print_meta: model type       = 8B\n",
      "llm_load_print_meta: model ftype      = Q8_0\n",
      "llm_load_print_meta: model params     = 8.03 B\n",
      "llm_load_print_meta: model size       = 7.95 GiB (8.50 BPW) \n",
      "llm_load_print_meta: general.name     = Hermes-2-Pro-Llama-3-8B\n",
      "llm_load_print_meta: BOS token        = 128000 '<|begin_of_text|>'\n",
      "llm_load_print_meta: EOS token        = 128003 '<|im_end|>'\n",
      "llm_load_print_meta: PAD token        = 128001 '<|end_of_text|>'\n",
      "llm_load_print_meta: LF token         = 128 'Ä'\n",
      "llm_load_print_meta: EOT token        = 128003 '<|im_end|>'\n",
      "llm_load_tensors: ggml ctx size =    0.30 MiB\n",
      "llm_load_tensors: offloading 32 repeating layers to GPU\n",
      "llm_load_tensors: offloading non-repeating layers to GPU\n",
      "llm_load_tensors: offloaded 33/33 layers to GPU\n",
      "llm_load_tensors:        CPU buffer size =   532.45 MiB\n",
      "llm_load_tensors:      CUDA0 buffer size =  7605.46 MiB\n",
      ".........................................................................................\n",
      "llama_new_context_with_model: n_ctx      = 8192\n",
      "llama_new_context_with_model: n_batch    = 512\n",
      "llama_new_context_with_model: n_ubatch   = 512\n",
      "llama_new_context_with_model: flash_attn = 0\n",
      "llama_new_context_with_model: freq_base  = 500000.0\n",
      "llama_new_context_with_model: freq_scale = 1\n",
      "llama_kv_cache_init:      CUDA0 KV buffer size =  1024.00 MiB\n",
      "llama_new_context_with_model: KV self size  = 1024.00 MiB, K (f16):  512.00 MiB, V (f16):  512.00 MiB\n",
      "llama_new_context_with_model:  CUDA_Host  output buffer size =     0.49 MiB\n",
      "llama_new_context_with_model:      CUDA0 compute buffer size =   560.00 MiB\n",
      "llama_new_context_with_model:  CUDA_Host compute buffer size =    24.01 MiB\n",
      "llama_new_context_with_model: graph nodes  = 1030\n",
      "llama_new_context_with_model: graph splits = 2\n",
      "AVX = 1 | AVX_VNNI = 0 | AVX2 = 1 | AVX512 = 0 | AVX512_VBMI = 0 | AVX512_VNNI = 0 | FMA = 1 | NEON = 0 | ARM_FMA = 0 | F16C = 1 | FP16_VA = 0 | WASM_SIMD = 0 | BLAS = 1 | SSE3 = 1 | SSSE3 = 0 | VSX = 0 | MATMUL_INT8 = 0 | LLAMAFILE = 1 | \n",
      "Model metadata: {'general.name': 'Hermes-2-Pro-Llama-3-8B', 'general.architecture': 'llama', 'llama.block_count': '32', 'llama.context_length': '8192', 'tokenizer.ggml.eos_token_id': '128003', 'general.file_type': '7', 'llama.attention.head_count_kv': '8', 'llama.embedding_length': '4096', 'llama.feed_forward_length': '14336', 'llama.attention.head_count': '32', 'llama.rope.freq_base': '500000.000000', 'llama.attention.layer_norm_rms_epsilon': '0.000010', 'llama.vocab_size': '128288', 'llama.rope.dimension_count': '128', 'tokenizer.ggml.model': 'gpt2', 'tokenizer.ggml.pre': 'llama-bpe', 'general.quantization_version': '2', 'tokenizer.ggml.bos_token_id': '128000', 'tokenizer.ggml.padding_token_id': '128001', 'tokenizer.chat_template': \"{{bos_token}}{% for message in messages %}{{'<|im_start|>' + message['role'] + '\\n' + message['content'] + '<|im_end|>' + '\\n'}}{% endfor %}{% if add_generation_prompt %}{{ '<|im_start|>assistant\\n' }}{% endif %}\"}\n",
      "Using gguf chat template: {{bos_token}}{% for message in messages %}{{'<|im_start|>' + message['role'] + '\n",
      "' + message['content'] + '<|im_end|>' + '\n",
      "'}}{% endfor %}{% if add_generation_prompt %}{{ '<|im_start|>assistant\n",
      "' }}{% endif %}\n",
      "Using chat eos_token: <|im_end|>\n",
      "Using chat bos_token: <|begin_of_text|>\n"
     ]
    }
   ],
   "source": [
    "import logging\n",
    "\n",
    "from app.llm.llamacpp.service import LlamaCppService\n",
    "\n",
    "logging.basicConfig(level=logging.INFO)\n",
    "logger = logging.getLogger(__name__)\n",
    "\n",
    "logger.info(f\"Model path: {model_path}\")\n",
    "llm = LlamaCppService(model_path=model_path, n_gpu_layers=-1)"
   ],
   "metadata": {
    "collapsed": false,
    "ExecuteTime": {
     "end_time": "2024-05-06T17:19:18.163383100Z",
     "start_time": "2024-05-06T17:19:14.768835400Z"
    }
   }
  },
  {
   "cell_type": "code",
   "execution_count": 4,
   "outputs": [],
   "source": [
    "from app.tools.langchain.wikipedia_query_run import LangchainWikipediaQueryRun\n",
    "from app.agents.react.agent import ReActAgentFactory\n",
    "\n",
    "tools = [LangchainWikipediaQueryRun(top_k_results=3, doc_content_chars_max=2048)]\n",
    "react_agent = ReActAgentFactory.start(llm=llm, tools=tools, step_limit=6)"
   ],
   "metadata": {
    "collapsed": false,
    "ExecuteTime": {
     "end_time": "2024-05-06T17:19:18.508517300Z",
     "start_time": "2024-05-06T17:19:18.164383300Z"
    }
   }
  },
  {
   "cell_type": "code",
   "execution_count": 5,
   "outputs": [
    {
     "name": "stdout",
     "output_type": "stream",
     "text": [
      "Steps: [\n",
      "  {\n",
      "    \"state_name\": \"States.THOUGHT\",\n",
      "    \"next_state\": \"States.ACTION\",\n",
      "    \"prompt\": \"You're a helpful assistant. You solve problems by breaking them down into multiple steps, thinking on those steps, acting on them, and observing. Given the problem, you will use your tools to solve it in as few steps as possible.\\n\\nCreate a thought based on the message.\\n\\nThought instructions:\\n- Provides exact details on the task to best answer the message, do not forget important details.\\n- You have access to tools that can help you answer the message. Always try to use a tool.\\n-- In your thought, recommend a tool that will help.\\n-- If the problem can be solved using the tool, always use the tool.\\n-- If the problem cannot be solved or if you are unsure, give your answer with why.\\n- If you keep running into issues with your tools, give your answer with the problems you're running into.\\n- If the message doesn't require any tool, just give your answer.\\n\\nMessage:\\n\\\"\\\"\\\"\\nWhat year did the iphone come out?\\n\\\"\\\"\\\"\\n\\nPrevious Messages, use these as context to the current message:\\n\\\"\\\"\\\"\\nuser: What year did the iphone come out?\\n\\n\\\"\\\"\\\"\\n\\nHere are the tools you have access to, you DO NOT have access to other tools, use the name of the tool you think can help:\\n\\\"\\\"\\\"\\nname: wikipedia_query_run\\ndescription: A tool for querying the Wikipedia API.\\n\\n\\n\\\"\\\"\\\"\\n\\nProvide a choice based on the following JSON schema:\\n\\\"\\\"\\\"\\n{'$defs': {'ThoughtStateType': {'description': 'The type of reason for your response.', 'enum': ['Action', 'Answer'], 'title': 'ThoughtStateType', 'type': 'string'}}, 'description': 'The thought of which choice to make next.', 'properties': {'type': {'allOf': [{'$ref': '#/$defs/ThoughtStateType'}], 'description': 'The reason type of choice for your response. Pick Action if you need to perform work, or Answer if you have a final answer.'}, 'reason': {'description': 'The reason details for the choice.', 'title': 'Reason', 'type': 'string'}}, 'required': ['type', 'reason'], 'title': 'ThoughtStateChoice', 'type': 'object'}\\n\\\"\\\"\\\"\\n\\nYour response should be in JSON matching the schema. It should include your reasoning for the choice. \\n- If you don't know the answer, your provide details for the action to take. \\n- If you know the answer, it should give the answer and any important details on how you know.\\n\\nChoice JSON:\",\n",
      "    \"output\": \"Use the 'wikipedia_query_run' tool to find out when the iPhone was first released.\",\n",
      "    \"token_usage\": {\n",
      "      \"total_tokens\": 547,\n",
      "      \"prompt_tokens\": 514,\n",
      "      \"completion_tokens\": 33\n",
      "    }\n",
      "  },\n",
      "  {\n",
      "    \"state_name\": \"States.ACTION\",\n",
      "    \"next_state\": \"States.OBSERVE\",\n",
      "    \"prompt\": \"You're a helpful assistant. You solve problems by breaking them down into multiple steps, thinking on those steps, acting on them, and observing. Given the problem, you will use your tools to solve it in as few steps as possible.\\n\\nAction:\\n- Given a task, solve it to your best ability. \\n- You have access to tools which can help you solve the problem, ALWAYS use tools to solve the problem.\\n- Do not ask for help.\\n- Don't repeat yourself from previous notes.\\n\\nNotes:\\n\\\"\\\"\\\"\\n\\nTHOUGHT: Use the 'wikipedia_query_run' tool to find out when the iPhone was first released.\\n\\\"\\\"\\\"\\n\\nTask:\\n\\\"\\\"\\\"\\nUse the 'wikipedia_query_run' tool to find out when the iPhone was first released.\\n\\\"\\\"\\\"\\n\\nHere are the schemas for the tools you have access to, pick only one:\\n\\\"\\\"\\\"\\n[{'tool_name': 'wikipedia_query_run', 'tool_description': 'A tool for querying the Wikipedia API.', 'tool_parameters': {'description': 'The input to search for factual information on Wikipedia.', 'properties': {'tool_name': {'description': 'The name of the tool you choose to use.', 'title': 'Tool Name', 'type': 'string'}, 'query': {'title': 'Query', 'type': 'string'}}, 'required': ['tool_name', 'query'], 'title': 'WikipediaQueryInput', 'type': 'object'}}]\\n\\\"\\\"\\\"\\n\\nRespond with the JSON input for the tool of your choice to best solve the problem.\",\n",
      "    \"output\": \"Tool results for wikipedia_query_run: \\\"\\\"\\\"\\nInput: {\\n  \\\"tool_name\\\": \\\"wikipedia_query_run\\\",\\n  \\\"query\\\": \\\"iPhone release date\\\"\\n}\\nOutput: {\\\"tool_name\\\":\\\"wikipedia_query_run\\\",\\\"output\\\":\\\"Page: History of the iPhone\\\\nSummary: The history of the iPhone development by Apple Inc. spans from the early 2000s to about 2010. The first iPhone was released in 2007. By the end of 2009, iPhone models had been released in all major markets.\\\\n\\\\n\\\\n\\\\nPage: IPhone 12\\\\nSummary: The iPhone 12 and iPhone 12 Mini (stylized and marketed as iPhone 12 mini) are smartphones designed, developed, and marketed by Apple Inc. They are the fourteenth-generation iPhones, succeeding the iPhone 11. They were unveiled at a virtually held Apple Special Event at Apple Park in Cupertino, California, on October 13, 2020, alongside the \\\\\\\"premium flagship\\\\\\\" iPhone 12 Pro and iPhone 12 Pro Max and HomePod Mini. Pre-orders for the iPhone 12 started on October 16, 2020, and the phone was released in most countries on October 23, 2020, alongside the iPhone 12 Pro and fourth-generation iPad Air. Pre-orders for the iPhone 12 Mini began on November 6, 2020, and the phone was released on November 13, 2020, alongside the iPhone 12 Pro Max.\\\\nThe major upgrades over the iPhone 11 include the addition of a Super Retina XDR OLED as opposed to the Liquid Retina LED-backlit LCD IPS panel on the iPhone 11 and XR, 5G support, the introduction of MagSafe, Apple A14 Bionic system on a chip (SoC) and high-dynamic-range video Dolby Vision 4K up to 30 fps. The iPhone 12 and iPhone 12 Mini, like the iPhone 12 Pro and iPhone 12 Pro Max, are the first iPhone models from Apple to no longer include a power adapter or EarPods headphones found in prior iPhone models; however, a USB-C to Lightning cable is included; this change was retroactively applied to other iPhone models sold by Apple, such as the iPhone XR, iPhone 11 and the second-generation iPhone SE.\\\\n\\\\nPage: IPhone 11\\\\nSummary: The iPhone 11 is a smartphone designed, developed, and marketed by Apple Inc. It is the thirteenth generation of iPhone, succeeding the iPhone XR, and was unveiled on September 10, 2019, alongside the higher-end iPhone 11 Pro at the Steve Jobs Theater in Apple Park, Cupertino, by Apple CEO Tim \\\"}\\\"\\\"\\\"\",\n",
      "    \"token_usage\": {\n",
      "      \"total_tokens\": 336,\n",
      "      \"prompt_tokens\": 314,\n",
      "      \"completion_tokens\": 22\n",
      "    }\n",
      "  },\n",
      "  {\n",
      "    \"state_name\": \"States.OBSERVE\",\n",
      "    \"next_state\": \"States.THOUGHT\",\n",
      "    \"prompt\": \"You're a helpful assistant. You solve problems by breaking them down into multiple steps, thinking on those steps, acting on them, and observing. Given the problem, you will use your tools to solve it in as few steps as possible.\\n\\nGiven a thought and the action from that thought, reflect on what you observe.\\n\\nThe thought:\\n\\\"\\\"\\\"\\nUse the 'wikipedia_query_run' tool to find out when the iPhone was first released.\\n\\\"\\\"\\\"\\n\\nThe action from the thought:\\n\\\"\\\"\\\"\\nTool results for wikipedia_query_run: \\\"\\\"\\\"\\nInput: {\\n  \\\"tool_name\\\": \\\"wikipedia_query_run\\\",\\n  \\\"query\\\": \\\"iPhone release date\\\"\\n}\\nOutput: {\\\"tool_name\\\":\\\"wikipedia_query_run\\\",\\\"output\\\":\\\"Page: History of the iPhone\\\\nSummary: The history of the iPhone development by Apple Inc. spans from the early 2000s to about 2010. The first iPhone was released in 2007. By the end of 2009, iPhone models had been released in all major markets.\\\\n\\\\n\\\\n\\\\nPage: IPhone 12\\\\nSummary: The iPhone 12 and iPhone 12 Mini (stylized and marketed as iPhone 12 mini) are smartphones designed, developed, and marketed by Apple Inc. They are the fourteenth-generation iPhones, succeeding the iPhone 11. They were unveiled at a virtually held Apple Special Event at Apple Park in Cupertino, California, on October 13, 2020, alongside the \\\\\\\"premium flagship\\\\\\\" iPhone 12 Pro and iPhone 12 Pro Max and HomePod Mini. Pre-orders for the iPhone 12 started on October 16, 2020, and the phone was released in most countries on October 23, 2020, alongside the iPhone 12 Pro and fourth-generation iPad Air. Pre-orders for the iPhone 12 Mini began on November 6, 2020, and the phone was released on November 13, 2020, alongside the iPhone 12 Pro Max.\\\\nThe major upgrades over the iPhone 11 include the addition of a Super Retina XDR OLED as opposed to the Liquid Retina LED-backlit LCD IPS panel on the iPhone 11 and XR, 5G support, the introduction of MagSafe, Apple A14 Bionic system on a chip (SoC) and high-dynamic-range video Dolby Vision 4K up to 30 fps. The iPhone 12 and iPhone 12 Mini, like the iPhone 12 Pro and iPhone 12 Pro Max, are the first iPhone models from Apple to no longer include a power adapter or EarPods headphones found in prior iPhone models; however, a USB-C to Lightning cable is included; this change was retroactively applied to other iPhone models sold by Apple, such as the iPhone XR, iPhone 11 and the second-generation iPhone SE.\\\\n\\\\nPage: IPhone 11\\\\nSummary: The iPhone 11 is a smartphone designed, developed, and marketed by Apple Inc. It is the thirteenth generation of iPhone, succeeding the iPhone XR, and was unveiled on September 10, 2019, alongside the higher-end iPhone 11 Pro at the Steve Jobs Theater in Apple Park, Cupertino, by Apple CEO Tim \\\"}\\\"\\\"\\\"\\n\\\"\\\"\\\"\\n\\nProvide a summary of what you observe:\",\n",
      "    \"output\": \"The first iPhone was released in 2007. The iPhone 12 and iPhone 12 Mini were unveiled on October 13, 2020, and released on October 23, 2020, alongside the iPhone 12 Pro and fourth-generation iPad Air. The major upgrades over the iPhone 11 include a Super Retina XDR OLED display, 5G support, MagSafe technology, Apple A14 Bionic chip, and Dolby Vision 4K up to 30 fps video. The iPhone 12 models no longer include a power adapter or EarPods headphones, but a USB-C to Lightning cable is included.\",\n",
      "    \"token_usage\": {\n",
      "      \"total_tokens\": 792,\n",
      "      \"prompt_tokens\": 664,\n",
      "      \"completion_tokens\": 128\n",
      "    }\n",
      "  },\n",
      "  {\n",
      "    \"state_name\": \"States.THOUGHT\",\n",
      "    \"next_state\": \"States.FINAL_ANSWER\",\n",
      "    \"prompt\": \"You're a helpful assistant. You solve problems by breaking them down into multiple steps, thinking on those steps, acting on them, and observing. Given the problem, you will use your tools to solve it in as few steps as possible.\\n\\nCreate a thought for how to answer the message based on the previous steps you have taken.\\n\\nThought instructions:\\n- Provides exact details on the task to best answer the message, do not forget important details.\\n- You have access to tools that can help you answer the message. Always try to use a tool.\\n-- In your thought, recommend a tool that will help.\\n-- If the problem can be solved using the tool, always use the tool.\\n-- If the problem cannot be solved or if you are unsure, give your answer with why.\\n- If you keep running into issues with your tools, give your answer with the problems you're running into.\\n- If the message doesn't require any tool, just give your answer.\\n\\nMessage:\\n\\\"\\\"\\\"\\nWhat year did the iphone come out?\\n\\\"\\\"\\\"\\n\\nHere are your notes so far in order from oldest to newest, use these to help create your next though. If you know the answer from your notes, say so:\\nTHOUGHT: Use the 'wikipedia_query_run' tool to find out when the iPhone was first released.\\nACTION: Tool results for wikipedia_query_run: \\\"\\\"\\\"\\nInput: {\\n  \\\"tool_name\\\": \\\"wikipedia_query_run\\\",\\n  \\\"query\\\": \\\"iPhone release date\\\"\\n}\\nOutput: {\\\"tool_name\\\":\\\"wikipedia_query_run\\\",\\\"output\\\":\\\"Page: History of the iPhone\\\\nSummary: The history of the iPhone development by Apple Inc. spans from the early 2000s to about 2010. The first iPhone was released in 2007. By the end of 2009, iPhone models had been released in all major markets.\\\\n\\\\n\\\\n\\\\nPage: IPhone 12\\\\nSummary: The iPhone 12 and iPhone 12 Mini (stylized and marketed as iPhone 12 mini) are smartphones designed, developed, and marketed by Apple Inc. They are the fourteenth-generation iPhones, succeeding the iPhone 11. They were unveiled at a virtually held Apple Special Event at Apple Park in Cupertino, California, on October 13, 2020, alongside the \\\\\\\"premium flagship\\\\\\\" iPhone 12 Pro and iPhone 12 Pro Max and HomePod Mini. Pre-orders for the iPhone 12 started on October 16, 2020, and the phone was released in most countries on October 23, 2020, alongside the iPhone 12 Pro and fourth-generation iPad Air. Pre-orders for the iPhone 12 Mini began on November 6, 2020, and the phone was released on November 13, 2020, alongside the iPhone 12 Pro Max.\\\\nThe major upgrades over the iPhone 11 include the addition of a Super Retina XDR OLED as opposed to the Liquid Retina LED-backlit LCD IPS panel on the iPhone 11 and XR, 5G support, the introduction of MagSafe, Apple A14 Bionic system on a chip (SoC) and high-dynamic-range video Dolby Vision 4K up to 30 fps. The iPhone 12 and iPhone 12 Mini, like the iPhone 12 Pro and iPhone 12 Pro Max, are the first iPhone models from Apple to no longer include a power adapter or EarPods headphones found in prior iPhone models; however, a USB-C to Lightning cable is included; this change was retroactively applied to other iPhone models sold by Apple, such as the iPhone XR, iPhone 11 and the second-generation iPhone SE.\\\\n\\\\nPage: IPhone 11\\\\nSummary: The iPhone 11 is a smartphone designed, developed, and marketed by Apple Inc. It is the thirteenth generation of iPhone, succeeding the iPhone XR, and was unveiled on September 10, 2019, alongside the higher-end iPhone 11 Pro at the Steve Jobs Theater in Apple Park, Cupertino, by Apple CEO Tim \\\"}\\\"\\\"\\\"\\nOBSERVE: The first iPhone was released in 2007. The iPhone 12 and iPhone 12 Mini were unveiled on October 13, 2020, and released on October 23, 2020, alongside the iPhone 12 Pro and fourth-generation iPad Air. The major upgrades over the iPhone 11 include a Super Retina XDR OLED display, 5G support, MagSafe technology, Apple A14 Bionic chip, and Dolby Vision 4K up to 30 fps video. The iPhone 12 models no longer include a power adapter or EarPods headphones, but a USB-C to Lightning cable is included.\\n\\nPrevious Messages, use these as context to the current message:\\n\\\"\\\"\\\"\\nuser: What year did the iphone come out?\\n\\n\\\"\\\"\\\"\\n\\nHere are the tools you have access to, you DO NOT have access to other tools, use the name of the tool you think can help:\\n\\\"\\\"\\\"\\nname: wikipedia_query_run\\ndescription: A tool for querying the Wikipedia API.\\n\\n\\n\\\"\\\"\\\"\\n\\nProvide a choice based on the following JSON schema:\\n\\\"\\\"\\\"\\n{'$defs': {'ThoughtStateType': {'description': 'The type of reason for your response.', 'enum': ['Action', 'Answer'], 'title': 'ThoughtStateType', 'type': 'string'}}, 'description': 'The thought of which choice to make next.', 'properties': {'type': {'allOf': [{'$ref': '#/$defs/ThoughtStateType'}], 'description': 'The reason type of choice for your response. Pick Action if you need to perform work, or Answer if you have a final answer.'}, 'reason': {'description': 'The reason details for the choice.', 'title': 'Reason', 'type': 'string'}}, 'required': ['type', 'reason'], 'title': 'ThoughtStateChoice', 'type': 'object'}\\n\\\"\\\"\\\"\\n\\nYour response should be in JSON matching the schema. It should include your reasoning for the choice. \\n- If you don't know the answer, your provide details for the action to take. \\n- If you know the answer, it should give the answer and any important details on how you know.\\n\\nChoice JSON:\",\n",
      "    \"output\": \"The first iPhone was released in 2007.\",\n",
      "    \"token_usage\": {\n",
      "      \"total_tokens\": 1289,\n",
      "      \"prompt_tokens\": 1265,\n",
      "      \"completion_tokens\": 24\n",
      "    }\n",
      "  },\n",
      "  {\n",
      "    \"state_name\": \"final_answer\",\n",
      "    \"next_state\": \"exit\",\n",
      "    \"prompt\": \"You're a helpful assistant. You solve problems by breaking them down into multiple steps, thinking on those steps, acting on them, and observing. Given the problem, you will use your tools to solve it in as few steps as possible.\\n\\nGiven the problem from the user, use your notes to give an answer. Directly address the problems.\\n\\nProblem:\\n\\\"\\\"\\\"\\nWhat year did the iphone come out?\\n\\\"\\\"\\\"\\n\\nNotes:\\n\\\"\\\"\\\"\\n\\nTHOUGHT: Use the 'wikipedia_query_run' tool to find out when the iPhone was first released.\\n- ACTION: Tool results for wikipedia_query_run: \\\"\\\"\\\"\\nInput: {\\n  \\\"tool_name\\\": \\\"wikipedia_query_run\\\",\\n  \\\"query\\\": \\\"iPhone release date\\\"\\n}\\nOutput: {\\\"tool_name\\\":\\\"wikipedia_query_run\\\",\\\"output\\\":\\\"Page: History of the iPhone\\\\nSummary: The history of the iPhone development by Apple Inc. spans from the early 2000s to about 2010. The first iPhone was released in 2007. By the end of 2009, iPhone models had been released in all major markets.\\\\n\\\\n\\\\n\\\\nPage: IPhone 12\\\\nSummary: The iPhone 12 and iPhone 12 Mini (stylized and marketed as iPhone 12 mini) are smartphones designed, developed, and marketed by Apple Inc. They are the fourteenth-generation iPhones, succeeding the iPhone 11. They were unveiled at a virtually held Apple Special Event at Apple Park in Cupertino, California, on October 13, 2020, alongside the \\\\\\\"premium flagship\\\\\\\" iPhone 12 Pro and iPhone 12 Pro Max and HomePod Mini. Pre-orders for the iPhone 12 started on October 16, 2020, and the phone was released in most countries on October 23, 2020, alongside the iPhone 12 Pro and fourth-generation iPad Air. Pre-orders for the iPhone 12 Mini began on November 6, 2020, and the phone was released on November 13, 2020, alongside the iPhone 12 Pro Max.\\\\nThe major upgrades over the iPhone 11 include the addition of a Super Retina XDR OLED as opposed to the Liquid Retina LED-backlit LCD IPS panel on the iPhone 11 and XR, 5G support, the introduction of MagSafe, Apple A14 Bionic system on a chip (SoC) and high-dynamic-range video Dolby Vision 4K up to 30 fps. The iPhone 12 and iPhone 12 Mini, like the iPhone 12 Pro and iPhone 12 Pro Max, are the first iPhone models from Apple to no longer include a power adapter or EarPods headphones found in prior iPhone models; however, a USB-C to Lightning cable is included; this change was retroactively applied to other iPhone models sold by Apple, such as the iPhone XR, iPhone 11 and the second-generation iPhone SE.\\\\n\\\\nPage: IPhone 11\\\\nSummary: The iPhone 11 is a smartphone designed, developed, and marketed by Apple Inc. It is the thirteenth generation of iPhone, succeeding the iPhone XR, and was unveiled on September 10, 2019, alongside the higher-end iPhone 11 Pro at the Steve Jobs Theater in Apple Park, Cupertino, by Apple CEO Tim \\\"}\\\"\\\"\\\"\\n- OBSERVE: The first iPhone was released in 2007. The iPhone 12 and iPhone 12 Mini were unveiled on October 13, 2020, and released on October 23, 2020, alongside the iPhone 12 Pro and fourth-generation iPad Air. The major upgrades over the iPhone 11 include a Super Retina XDR OLED display, 5G support, MagSafe technology, Apple A14 Bionic chip, and Dolby Vision 4K up to 30 fps video. The iPhone 12 models no longer include a power adapter or EarPods headphones, but a USB-C to Lightning cable is included.\\n- THOUGHT: The first iPhone was released in 2007.\\n\\\"\\\"\\\"\\n\\nYour answer to the problem.\",\n",
      "    \"output\": \"The first iPhone was released in 2007.\",\n",
      "    \"token_usage\": {\n",
      "      \"total_tokens\": 834,\n",
      "      \"prompt_tokens\": 824,\n",
      "      \"completion_tokens\": 10\n",
      "    }\n",
      "  }\n",
      "]\n",
      "Total tokens: 3798\n",
      "The first iPhone was released in 2007.\n",
      "Steps: [\n",
      "  {\n",
      "    \"state_name\": \"States.THOUGHT\",\n",
      "    \"next_state\": \"States.FINAL_ANSWER\",\n",
      "    \"prompt\": \"You're a helpful assistant. You solve problems by breaking them down into multiple steps, thinking on those steps, acting on them, and observing. Given the problem, you will use your tools to solve it in as few steps as possible.\\n\\nCreate a thought for how to answer the message based on the previous steps you have taken.\\n\\nThought instructions:\\n- Provides exact details on the task to best answer the message, do not forget important details.\\n- You have access to tools that can help you answer the message. Always try to use a tool.\\n-- In your thought, recommend a tool that will help.\\n-- If the problem can be solved using the tool, always use the tool.\\n-- If the problem cannot be solved or if you are unsure, give your answer with why.\\n- If you keep running into issues with your tools, give your answer with the problems you're running into.\\n- If the message doesn't require any tool, just give your answer.\\n\\nMessage:\\n\\\"\\\"\\\"\\nWhat other models exist?\\n\\\"\\\"\\\"\\n\\nHere are your notes so far in order from oldest to newest, use these to help create your next though. If you know the answer from your notes, say so:\\nTHOUGHT: Use the 'wikipedia_query_run' tool to find out when the iPhone was first released.\\nACTION: Tool results for wikipedia_query_run: \\\"\\\"\\\"\\nInput: {\\n  \\\"tool_name\\\": \\\"wikipedia_query_run\\\",\\n  \\\"query\\\": \\\"iPhone release date\\\"\\n}\\nOutput: {\\\"tool_name\\\":\\\"wikipedia_query_run\\\",\\\"output\\\":\\\"Page: History of the iPhone\\\\nSummary: The history of the iPhone development by Apple Inc. spans from the early 2000s to about 2010. The first iPhone was released in 2007. By the end of 2009, iPhone models had been released in all major markets.\\\\n\\\\n\\\\n\\\\nPage: IPhone 12\\\\nSummary: The iPhone 12 and iPhone 12 Mini (stylized and marketed as iPhone 12 mini) are smartphones designed, developed, and marketed by Apple Inc. They are the fourteenth-generation iPhones, succeeding the iPhone 11. They were unveiled at a virtually held Apple Special Event at Apple Park in Cupertino, California, on October 13, 2020, alongside the \\\\\\\"premium flagship\\\\\\\" iPhone 12 Pro and iPhone 12 Pro Max and HomePod Mini. Pre-orders for the iPhone 12 started on October 16, 2020, and the phone was released in most countries on October 23, 2020, alongside the iPhone 12 Pro and fourth-generation iPad Air. Pre-orders for the iPhone 12 Mini began on November 6, 2020, and the phone was released on November 13, 2020, alongside the iPhone 12 Pro Max.\\\\nThe major upgrades over the iPhone 11 include the addition of a Super Retina XDR OLED as opposed to the Liquid Retina LED-backlit LCD IPS panel on the iPhone 11 and XR, 5G support, the introduction of MagSafe, Apple A14 Bionic system on a chip (SoC) and high-dynamic-range video Dolby Vision 4K up to 30 fps. The iPhone 12 and iPhone 12 Mini, like the iPhone 12 Pro and iPhone 12 Pro Max, are the first iPhone models from Apple to no longer include a power adapter or EarPods headphones found in prior iPhone models; however, a USB-C to Lightning cable is included; this change was retroactively applied to other iPhone models sold by Apple, such as the iPhone XR, iPhone 11 and the second-generation iPhone SE.\\\\n\\\\nPage: IPhone 11\\\\nSummary: The iPhone 11 is a smartphone designed, developed, and marketed by Apple Inc. It is the thirteenth generation of iPhone, succeeding the iPhone XR, and was unveiled on September 10, 2019, alongside the higher-end iPhone 11 Pro at the Steve Jobs Theater in Apple Park, Cupertino, by Apple CEO Tim \\\"}\\\"\\\"\\\"\\nOBSERVE: The first iPhone was released in 2007. The iPhone 12 and iPhone 12 Mini were unveiled on October 13, 2020, and released on October 23, 2020, alongside the iPhone 12 Pro and fourth-generation iPad Air. The major upgrades over the iPhone 11 include a Super Retina XDR OLED display, 5G support, MagSafe technology, Apple A14 Bionic chip, and Dolby Vision 4K up to 30 fps video. The iPhone 12 models no longer include a power adapter or EarPods headphones, but a USB-C to Lightning cable is included.\\nTHOUGHT: The first iPhone was released in 2007.\\nFINAL_ANSWER: The first iPhone was released in 2007.\\n\\nPrevious Messages, use these as context to the current message:\\n\\\"\\\"\\\"\\nuser: What year did the iphone come out?\\nReActAgent: The first iPhone was released in 2007.\\nuser: What other models exist?\\n\\n\\\"\\\"\\\"\\n\\nHere are the tools you have access to, you DO NOT have access to other tools, use the name of the tool you think can help:\\n\\\"\\\"\\\"\\nname: wikipedia_query_run\\ndescription: A tool for querying the Wikipedia API.\\n\\n\\n\\\"\\\"\\\"\\n\\nProvide a choice based on the following JSON schema:\\n\\\"\\\"\\\"\\n{'$defs': {'ThoughtStateType': {'description': 'The type of reason for your response.', 'enum': ['Action', 'Answer'], 'title': 'ThoughtStateType', 'type': 'string'}}, 'description': 'The thought of which choice to make next.', 'properties': {'type': {'allOf': [{'$ref': '#/$defs/ThoughtStateType'}], 'description': 'The reason type of choice for your response. Pick Action if you need to perform work, or Answer if you have a final answer.'}, 'reason': {'description': 'The reason details for the choice.', 'title': 'Reason', 'type': 'string'}}, 'required': ['type', 'reason'], 'title': 'ThoughtStateChoice', 'type': 'object'}\\n\\\"\\\"\\\"\\n\\nYour response should be in JSON matching the schema. It should include your reasoning for the choice. \\n- If you don't know the answer, your provide details for the action to take. \\n- If you know the answer, it should give the answer and any important details on how you know.\\n\\nChoice JSON:\",\n",
      "    \"output\": \"The first iPhone was released in 2007.\",\n",
      "    \"token_usage\": {\n",
      "      \"total_tokens\": 1335,\n",
      "      \"prompt_tokens\": 1311,\n",
      "      \"completion_tokens\": 24\n",
      "    }\n",
      "  },\n",
      "  {\n",
      "    \"state_name\": \"final_answer\",\n",
      "    \"next_state\": \"exit\",\n",
      "    \"prompt\": \"You're a helpful assistant. You solve problems by breaking them down into multiple steps, thinking on those steps, acting on them, and observing. Given the problem, you will use your tools to solve it in as few steps as possible.\\n\\nGiven the problem from the user, use your notes to give an answer. Directly address the problems.\\n\\nProblem:\\n\\\"\\\"\\\"\\nWhat other models exist?\\n\\\"\\\"\\\"\\n\\nNotes:\\n\\\"\\\"\\\"\\n\\nTHOUGHT: Use the 'wikipedia_query_run' tool to find out when the iPhone was first released.\\n- ACTION: Tool results for wikipedia_query_run: \\\"\\\"\\\"\\nInput: {\\n  \\\"tool_name\\\": \\\"wikipedia_query_run\\\",\\n  \\\"query\\\": \\\"iPhone release date\\\"\\n}\\nOutput: {\\\"tool_name\\\":\\\"wikipedia_query_run\\\",\\\"output\\\":\\\"Page: History of the iPhone\\\\nSummary: The history of the iPhone development by Apple Inc. spans from the early 2000s to about 2010. The first iPhone was released in 2007. By the end of 2009, iPhone models had been released in all major markets.\\\\n\\\\n\\\\n\\\\nPage: IPhone 12\\\\nSummary: The iPhone 12 and iPhone 12 Mini (stylized and marketed as iPhone 12 mini) are smartphones designed, developed, and marketed by Apple Inc. They are the fourteenth-generation iPhones, succeeding the iPhone 11. They were unveiled at a virtually held Apple Special Event at Apple Park in Cupertino, California, on October 13, 2020, alongside the \\\\\\\"premium flagship\\\\\\\" iPhone 12 Pro and iPhone 12 Pro Max and HomePod Mini. Pre-orders for the iPhone 12 started on October 16, 2020, and the phone was released in most countries on October 23, 2020, alongside the iPhone 12 Pro and fourth-generation iPad Air. Pre-orders for the iPhone 12 Mini began on November 6, 2020, and the phone was released on November 13, 2020, alongside the iPhone 12 Pro Max.\\\\nThe major upgrades over the iPhone 11 include the addition of a Super Retina XDR OLED as opposed to the Liquid Retina LED-backlit LCD IPS panel on the iPhone 11 and XR, 5G support, the introduction of MagSafe, Apple A14 Bionic system on a chip (SoC) and high-dynamic-range video Dolby Vision 4K up to 30 fps. The iPhone 12 and iPhone 12 Mini, like the iPhone 12 Pro and iPhone 12 Pro Max, are the first iPhone models from Apple to no longer include a power adapter or EarPods headphones found in prior iPhone models; however, a USB-C to Lightning cable is included; this change was retroactively applied to other iPhone models sold by Apple, such as the iPhone XR, iPhone 11 and the second-generation iPhone SE.\\\\n\\\\nPage: IPhone 11\\\\nSummary: The iPhone 11 is a smartphone designed, developed, and marketed by Apple Inc. It is the thirteenth generation of iPhone, succeeding the iPhone XR, and was unveiled on September 10, 2019, alongside the higher-end iPhone 11 Pro at the Steve Jobs Theater in Apple Park, Cupertino, by Apple CEO Tim \\\"}\\\"\\\"\\\"\\n- OBSERVE: The first iPhone was released in 2007. The iPhone 12 and iPhone 12 Mini were unveiled on October 13, 2020, and released on October 23, 2020, alongside the iPhone 12 Pro and fourth-generation iPad Air. The major upgrades over the iPhone 11 include a Super Retina XDR OLED display, 5G support, MagSafe technology, Apple A14 Bionic chip, and Dolby Vision 4K up to 30 fps video. The iPhone 12 models no longer include a power adapter or EarPods headphones, but a USB-C to Lightning cable is included.\\n- THOUGHT: The first iPhone was released in 2007.\\n- FINAL_ANSWER: The first iPhone was released in 2007.\\n- THOUGHT: The first iPhone was released in 2007.\\n\\\"\\\"\\\"\\n\\nYour answer to the problem.\",\n",
      "    \"output\": \"The models that exist include the original iPhone, which was first released in 2007, and the more recent iPhone 12 and iPhone 12 Mini unveiled on October 13, 2020, and released on October 23, 2020, alongside the iPhone 12 Pro and fourth-generation iPad Air. The iPhone 12 models have several upgrades over the iPhone 11, such as a Super Retina XDR OLED display, 5G support, MagSafe technology, Apple A14 Bionic chip, and Dolby Vision 4K up to 30 fps video. These newer models no longer include a power adapter or EarPods headphones but come with a USB-C to Lightning cable instead.\",\n",
      "    \"token_usage\": {\n",
      "      \"total_tokens\": 994,\n",
      "      \"prompt_tokens\": 851,\n",
      "      \"completion_tokens\": 143\n",
      "    }\n",
      "  }\n",
      "]\n",
      "Total tokens: 2329\n",
      "The models that exist include the original iPhone, which was first released in 2007, and the more recent iPhone 12 and iPhone 12 Mini unveiled on October 13, 2020, and released on October 23, 2020, alongside the iPhone 12 Pro and fourth-generation iPad Air. The iPhone 12 models have several upgrades over the iPhone 11, such as a Super Retina XDR OLED display, 5G support, MagSafe technology, Apple A14 Bionic chip, and Dolby Vision 4K up to 30 fps video. These newer models no longer include a power adapter or EarPods headphones but come with a USB-C to Lightning cable instead.\n"
     ]
    },
    {
     "data": {
      "text/plain": "True"
     },
     "execution_count": 5,
     "metadata": {},
     "output_type": "execute_result"
    }
   ],
   "source": [
    "import json\n",
    "from app.core.messages import Query\n",
    "\n",
    "future = react_agent.ask(Query(goal=\"What year did the iphone come out?\"))\n",
    "response = future.get(timeout=120)\n",
    "print(f\"Steps: {json.dumps([step.model_dump() for step in response.metadata['steps']], indent=2)}\")\n",
    "print(f\"Total tokens: {sum(step.token_usage.total_tokens for step in response.metadata['steps'])}\")\n",
    "print(response.final_output)\n",
    "\n",
    "future = react_agent.ask(Query(goal=\"What other models exist?\"))\n",
    "response = future.get(timeout=120)\n",
    "print(f\"Steps: {json.dumps([step.model_dump() for step in response.metadata['steps']], indent=2)}\")\n",
    "print(f\"Total tokens: {sum(step.token_usage.total_tokens for step in response.metadata['steps'])}\")\n",
    "print(response.final_output)\n",
    "\n",
    "react_agent.stop()"
   ],
   "metadata": {
    "collapsed": false,
    "ExecuteTime": {
     "end_time": "2024-05-06T17:19:38.809102700Z",
     "start_time": "2024-05-06T17:19:18.510517100Z"
    }
   }
  },
  {
   "cell_type": "code",
   "execution_count": 5,
   "outputs": [],
   "source": [],
   "metadata": {
    "collapsed": false,
    "ExecuteTime": {
     "end_time": "2024-05-06T17:19:38.809102700Z",
     "start_time": "2024-05-06T17:19:38.808598900Z"
    }
   }
  }
 ],
 "metadata": {
  "kernelspec": {
   "display_name": "Python 3",
   "language": "python",
   "name": "python3"
  },
  "language_info": {
   "codemirror_mode": {
    "name": "ipython",
    "version": 2
   },
   "file_extension": ".py",
   "mimetype": "text/x-python",
   "name": "python",
   "nbconvert_exporter": "python",
   "pygments_lexer": "ipython2",
   "version": "2.7.6"
  }
 },
 "nbformat": 4,
 "nbformat_minor": 0
}
