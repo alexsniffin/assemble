{
 "cells": [
  {
   "cell_type": "markdown",
   "source": [
    "# Tool Agent"
   ],
   "metadata": {
    "collapsed": false
   }
  },
  {
   "cell_type": "code",
   "execution_count": null,
   "outputs": [],
   "source": [
    "!pip install python-dotenv langchain-community wikipedia"
   ],
   "metadata": {
    "collapsed": false,
    "is_executing": true
   }
  },
  {
   "cell_type": "code",
   "execution_count": null,
   "outputs": [],
   "source": [
    "from dotenv import load_dotenv\n",
    "import os\n",
    "\n",
    "load_dotenv()\n",
    "model_path = os.getenv(\"MODEL_PATH\")"
   ],
   "metadata": {
    "collapsed": false,
    "is_executing": true
   }
  },
  {
   "cell_type": "code",
   "execution_count": null,
   "outputs": [],
   "source": [
    "import logging\n",
    "\n",
    "from app.llm.llamacpp.service import LlamaCppService\n",
    "\n",
    "logging.basicConfig(level=logging.INFO)\n",
    "logger = logging.getLogger(__name__)\n",
    "\n",
    "llm = LlamaCppService(model_path=model_path, n_gpu_layers=-1)"
   ],
   "metadata": {
    "collapsed": false,
    "is_executing": true
   }
  },
  {
   "cell_type": "code",
   "execution_count": null,
   "outputs": [],
   "source": [
    "from app.tools.langchain.wikipedia_query_run import LangchainWikipediaQueryRun\n",
    "from app.agents.react.agent import ReActAgentFactory\n",
    "\n",
    "tools = [LangchainWikipediaQueryRun(top_k_results=3, doc_content_chars_max=2048, exclude_from_scratch_pad=True)]\n",
    "react_agent = ReActAgentFactory.start(llm=llm, tools=tools, step_limit=6)"
   ],
   "metadata": {
    "collapsed": false,
    "is_executing": true
   }
  },
  {
   "cell_type": "code",
   "execution_count": null,
   "outputs": [],
   "source": [
    "import json\n",
    "from app.core.messages import Query\n",
    "\n",
    "future = react_agent.ask(Query(goal=\"What year did the iphone come out?\"))\n",
    "response = future.get(timeout=120)\n",
    "print(f\"Steps: {json.dumps([step.model_dump() for step in response.metadata['steps']], indent=2)}\")\n",
    "print(f\"Total tokens: {sum(step.token_usage.total_tokens for step in response.metadata['steps'])}\")\n",
    "print(response.final_output)\n",
    "\n",
    "future = react_agent.ask(Query(goal=\"What other models exist?\"))\n",
    "response = future.get(timeout=120)\n",
    "print(f\"Steps: {json.dumps([step.model_dump() for step in response.metadata['steps']], indent=2)}\")\n",
    "print(f\"Total tokens: {sum(step.token_usage.total_tokens for step in response.metadata['steps'])}\")\n",
    "print(response.final_output)\n",
    "\n",
    "react_agent.stop()"
   ],
   "metadata": {
    "collapsed": false,
    "is_executing": true
   }
  },
  {
   "cell_type": "code",
   "execution_count": null,
   "outputs": [],
   "source": [],
   "metadata": {
    "collapsed": false,
    "is_executing": true
   }
  }
 ],
 "metadata": {
  "kernelspec": {
   "display_name": "Python 3",
   "language": "python",
   "name": "python3"
  },
  "language_info": {
   "codemirror_mode": {
    "name": "ipython",
    "version": 2
   },
   "file_extension": ".py",
   "mimetype": "text/x-python",
   "name": "python",
   "nbconvert_exporter": "python",
   "pygments_lexer": "ipython2",
   "version": "2.7.6"
  }
 },
 "nbformat": 4,
 "nbformat_minor": 0
}
