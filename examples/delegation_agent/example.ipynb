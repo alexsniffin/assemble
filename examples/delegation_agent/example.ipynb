{
 "cells": [
  {
   "cell_type": "markdown",
   "source": [
    "# Tool Agent"
   ],
   "metadata": {
    "collapsed": false
   }
  },
  {
   "cell_type": "code",
   "execution_count": null,
   "outputs": [],
   "source": [
    "!pip install python-dotenv langchain-community wikipedia duckduckgo-search"
   ],
   "metadata": {
    "collapsed": false
   }
  },
  {
   "cell_type": "code",
   "execution_count": 2,
   "outputs": [],
   "source": [
    "import os\n",
    "\n",
    "from dotenv import load_dotenv\n",
    "\n",
    "load_dotenv()\n",
    "model_path = os.getenv(\"MODEL_PATH\")"
   ],
   "metadata": {
    "collapsed": false,
    "ExecuteTime": {
     "end_time": "2024-05-08T02:20:14.799398400Z",
     "start_time": "2024-05-08T02:20:14.793437700Z"
    }
   }
  },
  {
   "cell_type": "code",
   "execution_count": null,
   "outputs": [],
   "source": [
    "import logging\n",
    "from app.llm.llamacpp.service import LlamaCppService\n",
    "\n",
    "logging.basicConfig(level=logging.INFO)\n",
    "\n",
    "llm = LlamaCppService(model_path=model_path, n_gpu_layers=-1)"
   ],
   "metadata": {
    "collapsed": false
   }
  },
  {
   "cell_type": "code",
   "execution_count": 4,
   "outputs": [],
   "source": [
    "import enum\n",
    "import logging\n",
    "from typing import Optional, List\n",
    "\n",
    "from pykka import ActorRef\n",
    "\n",
    "from app.core.agents.base import AgentBase\n",
    "from app.core.llm.generator import Generator\n",
    "from app.core.memory.memory import Memory\n",
    "from app.core.persona import Persona\n",
    "from app.core.states.base import StateBase, Transition\n",
    "from app.states.final_answer.state import FinalAnswerState\n",
    "from app.core.tools.adapter import ToolAdapter\n",
    "\n",
    "logger = logging.getLogger(__name__)\n",
    "\n",
    "\n",
    "class DelegationStates(str, enum.Enum):\n",
    "    DELEGATE = \"delegate\"\n",
    "    FINAL_ANSWER = \"final_answer\"\n",
    "\n",
    "\n",
    "class DelegationAgent(AgentBase):\n",
    "    name: str = \"DelegationAgent\"\n",
    "    description: str = \"Delegates tasks to worker agents as needed.\"\n",
    "\n",
    "    def __init__(self,\n",
    "                 workers: List[ActorRef],\n",
    "                 **args):\n",
    "        super().__init__(**args)\n",
    "        self.memory.data.set(\"workers\", workers)\n",
    "\n",
    "\n",
    "class DelegateState(StateBase):\n",
    "    name: str = DelegationStates.DELEGATE\n",
    "\n",
    "    def build_prompt(self, persona: Persona, memory: Memory, _: Optional[List[ToolAdapter]]) -> str:\n",
    "        workers = memory.data.get(\"workers\")\n",
    "        worker_descriptions = [f\"{worker.proxy().name.get()}: {worker.proxy().description.get()}\" for worker in workers]\n",
    "        prompt = f'''{persona.prompt()}\n",
    "\n",
    "Given the problem, determine which of your workers can help solve the problem and let them do it.\n",
    "\n",
    "If none of your workers can help solve the problem, respond with \"NONE: \" and give the reason after.\n",
    "\n",
    "Current Problem:\n",
    "\"\"\"\n",
    "{memory.data.get_current_message().content}\n",
    "\"\"\"\n",
    "\n",
    "Workers:\n",
    "\"\"\"\n",
    "{worker_descriptions}\n",
    "\"\"\"\n",
    "\n",
    "Respond with only the name of the worker that can help solve the problem.'''\n",
    "        return prompt\n",
    "\n",
    "    def after_generation(self, generation: str, memory: Memory, _: Optional[List[ToolAdapter]]) -> Transition:\n",
    "        if \"NONE: \" in generation:\n",
    "            reason = generation.split(\"NONE: \")[1].strip()\n",
    "            logger.error(f\"No suitable worker found: {reason}\")\n",
    "            return Transition(updated_response=reason, next_state=DelegationStates.FINAL_ANSWER)\n",
    "\n",
    "        worker = next((worker for worker in memory.data.get(\"workers\") if worker.proxy().name.get() == generation),\n",
    "                      None)\n",
    "        if worker:\n",
    "            result = worker.ask(Query(goal=memory.data.get_current_message().content)).get()\n",
    "            if result:\n",
    "                return Transition(\n",
    "                    updated_response=f\"Delegated to: {generation}\\nOutput: {result.final_output}\",\n",
    "                    next_state=DelegationStates.FINAL_ANSWER\n",
    "                )\n",
    "            else:\n",
    "                logger.error(\"Failed to get a response from the worker.\")\n",
    "                return Transition(updated_response=\"Failed to get a response from the worker.\",\n",
    "                                  next_state=DelegationStates.FINAL_ANSWER)\n",
    "\n",
    "        logger.error(\"No worker found with the specified name.\")\n",
    "        return Transition(updated_response=\"No worker found with that name.\", next_state=DelegationStates.FINAL_ANSWER)\n"
   ],
   "metadata": {
    "collapsed": false,
    "ExecuteTime": {
     "end_time": "2024-05-08T02:20:18.110527400Z",
     "start_time": "2024-05-08T02:20:18.015268Z"
    }
   }
  },
  {
   "cell_type": "code",
   "execution_count": 5,
   "outputs": [],
   "source": [
    "from typing import List, Optional\n",
    "import enum\n",
    "\n",
    "from app.core.agents.base import AgentBase\n",
    "from app.core.states.base import StateBase, Transition\n",
    "from app.core.memory.memory import Memory\n",
    "from app.core.persona import Persona\n",
    "from app.core.tools.adapter import ToolAdapter\n",
    "from app.states.defaults import tools_handler\n",
    "\n",
    "\n",
    "class SearchStates(str, enum.Enum):\n",
    "    SEARCH = \"search\"\n",
    "    FINAL_ANSWER = \"final_answer\"\n",
    "\n",
    "\n",
    "class SearchAgent(AgentBase):\n",
    "    name: str = \"SearchAgent\"\n",
    "    description: str = \"Specializes in searching for information.\"\n",
    "    pass\n",
    "\n",
    "\n",
    "class SearchState(StateBase):\n",
    "    name: str = SearchStates.SEARCH\n",
    "\n",
    "    def build_prompt(self, persona: Persona, memory: Memory, tools: Optional[List[ToolAdapter]]) -> str:\n",
    "        messages_formatted = '\\n'.join(\n",
    "            [f\"{message.name}: {message.content}\" for message in memory.data.get_all_messages()])\n",
    "        current_problem = memory.data.get_current_message().content\n",
    "\n",
    "        prompt = f'''{persona.prompt()}\n",
    "\n",
    "Search for information using your tools to help solve the following problem for the user. Use any previous messages as context.\n",
    "\n",
    "Current Problem:\n",
    "\"\"\"\n",
    "{current_problem}\n",
    "\"\"\"\n",
    "\n",
    "Previous Messages:\n",
    "\"\"\"\n",
    "{messages_formatted}\n",
    "\"\"\"\n",
    "\n",
    "Here are the schemas for the tools you have access to, pick only one:\n",
    "\"\"\"\n",
    "{[tool.schema() for tool in tools]}\n",
    "\"\"\"\n",
    "\n",
    "Respond with the JSON input for the tool of your choice to best solve the problem.'''\n",
    "        return prompt\n",
    "\n",
    "    def after_generation(self, generation: str, memory: Memory, tools: Optional[List[ToolAdapter]]) -> Transition:\n",
    "        return tools_handler(\n",
    "            response=generation,\n",
    "            memory=memory,\n",
    "            tools=tools,\n",
    "            next_state=SearchStates.FINAL_ANSWER,\n",
    "            save_data_key=\"search_results\"\n",
    "        )\n"
   ],
   "metadata": {
    "collapsed": false,
    "ExecuteTime": {
     "end_time": "2024-05-08T02:20:18.115113400Z",
     "start_time": "2024-05-08T02:20:18.113600500Z"
    }
   }
  },
  {
   "cell_type": "code",
   "execution_count": 6,
   "metadata": {
    "collapsed": true,
    "ExecuteTime": {
     "end_time": "2024-05-08T02:20:18.333391200Z",
     "start_time": "2024-05-08T02:20:18.116112500Z"
    }
   },
   "outputs": [],
   "source": [
    "from langchain_community.tools import DuckDuckGoSearchRun\n",
    "from app.tools.langchain.wrapper import LangChainToolWrapper\n",
    "\n",
    "search_agent = SearchAgent.start(\n",
    "    persona=Persona(description=\"You're an expert researcher.\"),\n",
    "    memory=Memory(),\n",
    "    states=[\n",
    "        SearchState(\n",
    "            generator=Generator(service=llm, use_json_model=True, temperature=0.1),\n",
    "            tools=[\n",
    "                LangChainToolWrapper.create(DuckDuckGoSearchRun())\n",
    "            ]\n",
    "        ),\n",
    "        FinalAnswerState(\n",
    "            generator=Generator(service=llm, temperature=0.3)\n",
    "        )\n",
    "    ],\n",
    "    default_initial_state=SearchStates.SEARCH,\n",
    "    step_limit_state_name=SearchStates.FINAL_ANSWER\n",
    ")\n",
    "\n",
    "delegate_agent = DelegationAgent.start(\n",
    "    workers=[search_agent],\n",
    "    persona=Persona(description=\"You're an a helpful assistant. Help the user solve their problem.\"),\n",
    "    memory=Memory(),\n",
    "    states=[\n",
    "        DelegateState(\n",
    "            generator=Generator(service=llm, use_json_model=False, temperature=0.1),\n",
    "        ),\n",
    "        FinalAnswerState(\n",
    "            generator=Generator(service=llm, temperature=0.3)\n",
    "        )\n",
    "    ],\n",
    "    default_initial_state=DelegationStates.DELEGATE,\n",
    "    step_limit_state_name=DelegationStates.FINAL_ANSWER\n",
    ")"
   ]
  },
  {
   "cell_type": "code",
   "execution_count": 7,
   "outputs": [
    {
     "name": "stdout",
     "output_type": "stream",
     "text": [
      "Steps: [\n",
      "  {\n",
      "    \"state_name\": \"DelegationStates.DELEGATE\",\n",
      "    \"next_state\": \"DelegationStates.FINAL_ANSWER\",\n",
      "    \"prompt\": \"You're an a helpful assistant. Help the user solve their problem.\\n\\nGiven the problem, determine which of your workers can help solve the problem and let them do it.\\n\\nIf none of your workers can help solve the problem, respond with \\\"NONE: \\\" and give the reason after.\\n\\nCurrent Problem:\\n\\\"\\\"\\\"\\nFind the latest performance on the NVDA stock.\\n\\\"\\\"\\\"\\n\\nWorkers:\\n\\\"\\\"\\\"\\n['SearchAgent: Specializes in searching for information.']\\n\\\"\\\"\\\"\\n\\nRespond with only the name of the worker that can help solve the problem.\",\n",
      "    \"output\": \"Delegated to: SearchAgent\\nOutput: The latest performance for NVDA stock as of the market close is that Nvidia (NVDA) reached a price of $905.54, with a -1.72% movement compared to the previous day. This change lagged the S&P 500's daily gain of 0.13%. The Dow saw an increase as well. Analysts have set share price targets for NVDA ranging from $475.00 to $1,200.00, with an average anticipated share price of $941.55 in the next year, suggesting a possible upside of 2.2% from the stock's current price. Nvidia Inc. chips are powering the artificial-intelligence revolution and have reported revenue for the fourth quarter ended January 28, 2024, of $22.1 billion, up 22% from the previous quarter and up 265% from a year ago. The GAAP earnings per diluted share was $4.93, up 33% from the previous quarter and up 765% from a year ago.\",\n",
      "    \"token_usage\": {\n",
      "      \"total_tokens\": 115,\n",
      "      \"prompt_tokens\": 113,\n",
      "      \"completion_tokens\": 2\n",
      "    }\n",
      "  },\n",
      "  {\n",
      "    \"state_name\": \"final_answer\",\n",
      "    \"next_state\": \"exit\",\n",
      "    \"prompt\": \"You're an a helpful assistant. Help the user solve their problem.\\n\\nGiven the problem from the user, use your notes to give an answer. Directly address the problem.\\n\\nProblem:\\n\\\"\\\"\\\"\\nFind the latest performance on the NVDA stock.\\n\\\"\\\"\\\"\\n\\nNotes from oldest to newest:\\n\\\"\\\"\\\"\\n\\nDELEGATE: Delegated to: SearchAgent\\nOutput: The latest performance for NVDA stock as of the market close is that Nvidia (NVDA) reached a price of $905.54, with a -1.72% movement compared to the previous day. This change lagged the S&P 500's daily gain of 0.13%. The Dow saw an increase as well. Analysts have set share price targets for NVDA ranging from $475.00 to $1,200.00, with an average anticipated share price of $941.55 in the next year, suggesting a possible upside of 2.2% from the stock's current price. Nvidia Inc. chips are powering the artificial-intelligence revolution and have reported revenue for the fourth quarter ended January 28, 2024, of $22.1 billion, up 22% from the previous quarter and up 265% from a year ago. The GAAP earnings per diluted share was $4.93, up 33% from the previous quarter and up 765% from a year ago.\\n\\\"\\\"\\\"\\n\\nYour complete and detailed answer to the problem.\",\n",
      "    \"output\": \"The latest performance for NVDA stock as of the market close is that Nvidia (NVDA) reached a price of $905.54, with a -1.72% movement compared to the previous day. This change lagged the S&P 500's daily gain of 0.13%. The Dow saw an increase as well. Analysts have set share price targets for NVDA ranging from $475.00 to $1,200.00, with an average anticipated share price of $941.55 in the next year, suggesting a possible upside of 2.2% from the stock's current price.\\n\\nNvidia Inc. chips are powering the artificial-intelligence revolution and have reported revenue for the fourth quarter ended January 28, 2024, of $22.1 billion, up 22% from the previous quarter and up 265% from a year ago. The GAAP earnings per diluted share was $4.93, up 33% from the previous quarter and up 765% from a year ago.\",\n",
      "    \"token_usage\": {\n",
      "      \"total_tokens\": 509,\n",
      "      \"prompt_tokens\": 299,\n",
      "      \"completion_tokens\": 210\n",
      "    }\n",
      "  }\n",
      "]\n",
      "Total tokens: 624\n",
      "The latest performance for NVDA stock as of the market close is that Nvidia (NVDA) reached a price of $905.54, with a -1.72% movement compared to the previous day. This change lagged the S&P 500's daily gain of 0.13%. The Dow saw an increase as well. Analysts have set share price targets for NVDA ranging from $475.00 to $1,200.00, with an average anticipated share price of $941.55 in the next year, suggesting a possible upside of 2.2% from the stock's current price.\n",
      "\n",
      "Nvidia Inc. chips are powering the artificial-intelligence revolution and have reported revenue for the fourth quarter ended January 28, 2024, of $22.1 billion, up 22% from the previous quarter and up 265% from a year ago. The GAAP earnings per diluted share was $4.93, up 33% from the previous quarter and up 765% from a year ago.\n"
     ]
    }
   ],
   "source": [
    "import json\n",
    "from app.core.messages import Query\n",
    "\n",
    "future = delegate_agent.ask(Query(initial_state=\"delegate\",\n",
    "                                  goal=\"Find the latest performance on the NVDA stock.\"))\n",
    "response = future.get(timeout=120)\n",
    "print(f\"Steps: {json.dumps([step.model_dump() for step in response.metadata['steps']], indent=2)}\")\n",
    "print(\n",
    "    f\"Total tokens: {sum((step.token_usage.total_tokens if step.token_usage is not None else 0) for step in response.metadata.get('steps', []))}\")\n",
    "print(response.final_output)"
   ],
   "metadata": {
    "collapsed": false,
    "ExecuteTime": {
     "end_time": "2024-05-08T02:20:32.062372800Z",
     "start_time": "2024-05-08T02:20:18.335133400Z"
    }
   }
  },
  {
   "cell_type": "code",
   "execution_count": 8,
   "outputs": [
    {
     "name": "stdout",
     "output_type": "stream",
     "text": [
      "Steps: [\n",
      "  {\n",
      "    \"state_name\": \"DelegationStates.DELEGATE\",\n",
      "    \"next_state\": \"DelegationStates.FINAL_ANSWER\",\n",
      "    \"prompt\": \"You're an a helpful assistant. Help the user solve their problem.\\n\\nGiven the problem, determine which of your workers can help solve the problem and let them do it.\\n\\nIf none of your workers can help solve the problem, respond with \\\"NONE: \\\" and give the reason after.\\n\\nCurrent Problem:\\n\\\"\\\"\\\"\\nHow does their performance compare to AMD?\\n\\\"\\\"\\\"\\n\\nWorkers:\\n\\\"\\\"\\\"\\n['SearchAgent: Specializes in searching for information.']\\n\\\"\\\"\\\"\\n\\nRespond with only the name of the worker that can help solve the problem.\",\n",
      "    \"output\": \"Delegated to: SearchAgent\\nOutput: Based on the latest market data and research findings from my notes, Nvidia (NVDA) has been performing relatively well in comparison to AMD. As of the market close, NVDA reached a price of $905.54 with a -1.72% movement compared to the previous day, which lagged the S&P 500's daily gain of 0.13%. However, analysts have set share price targets for NVDA ranging from $475.00 to $1,200.00, with an average anticipated share price of $941.55 in the next year, suggesting a possible upside of 2.2% from the stock's current price.\\n\\nIn terms of GPU performance and efficiency, Nvidia has been leading the market with their latest offerings such as the GeForce RTX 4080. AMD's most efficient GPU is the RX 7900 XTX, but it still falls short compared to Nvidia's offerings. In value for money at 1440p, Intel's Arc A580 ranks first, followed by Nvidia's GeForce RTX 4070 Ti and AMD's Radeon RX 7900 XT.\\n\\nWhile AMD has made significant improvements with their latest GPUs, Nvidia continues to maintain a strong lead in both performance and efficiency. However, it is essential to consider that the market is constantly evolving, and future developments from both companies will play a crucial role in determining their relative positions.\",\n",
      "    \"token_usage\": {\n",
      "      \"total_tokens\": 113,\n",
      "      \"prompt_tokens\": 111,\n",
      "      \"completion_tokens\": 2\n",
      "    }\n",
      "  },\n",
      "  {\n",
      "    \"state_name\": \"final_answer\",\n",
      "    \"next_state\": \"exit\",\n",
      "    \"prompt\": \"You're an a helpful assistant. Help the user solve their problem.\\n\\nGiven the problem from the user, use your notes to give an answer. Directly address the problem.\\n\\nProblem:\\n\\\"\\\"\\\"\\nHow does their performance compare to AMD?\\n\\\"\\\"\\\"\\n\\nNotes from oldest to newest:\\n\\\"\\\"\\\"\\n\\nDELEGATE: Delegated to: SearchAgent\\nOutput: The latest performance for NVDA stock as of the market close is that Nvidia (NVDA) reached a price of $905.54, with a -1.72% movement compared to the previous day. This change lagged the S&P 500's daily gain of 0.13%. The Dow saw an increase as well. Analysts have set share price targets for NVDA ranging from $475.00 to $1,200.00, with an average anticipated share price of $941.55 in the next year, suggesting a possible upside of 2.2% from the stock's current price. Nvidia Inc. chips are powering the artificial-intelligence revolution and have reported revenue for the fourth quarter ended January 28, 2024, of $22.1 billion, up 22% from the previous quarter and up 265% from a year ago. The GAAP earnings per diluted share was $4.93, up 33% from the previous quarter and up 765% from a year ago.\\n- FINAL_ANSWER: The latest performance for NVDA stock as of the market close is that Nvidia (NVDA) reached a price of $905.54, with a -1.72% movement compared to the previous day. This change lagged the S&P 500's daily gain of 0.13%. The Dow saw an increase as well. Analysts have set share price targets for NVDA ranging from $475.00 to $1,200.00, with an average anticipated share price of $941.55 in the next year, suggesting a possible upside of 2.2% from the stock's current price.\\n\\nNvidia Inc. chips are powering the artificial-intelligence revolution and have reported revenue for the fourth quarter ended January 28, 2024, of $22.1 billion, up 22% from the previous quarter and up 265% from a year ago. The GAAP earnings per diluted share was $4.93, up 33% from the previous quarter and up 765% from a year ago.\\n- DELEGATE: Delegated to: SearchAgent\\nOutput: Based on the latest market data and research findings from my notes, Nvidia (NVDA) has been performing relatively well in comparison to AMD. As of the market close, NVDA reached a price of $905.54 with a -1.72% movement compared to the previous day, which lagged the S&P 500's daily gain of 0.13%. However, analysts have set share price targets for NVDA ranging from $475.00 to $1,200.00, with an average anticipated share price of $941.55 in the next year, suggesting a possible upside of 2.2% from the stock's current price.\\n\\nIn terms of GPU performance and efficiency, Nvidia has been leading the market with their latest offerings such as the GeForce RTX 4080. AMD's most efficient GPU is the RX 7900 XTX, but it still falls short compared to Nvidia's offerings. In value for money at 1440p, Intel's Arc A580 ranks first, followed by Nvidia's GeForce RTX 4070 Ti and AMD's Radeon RX 7900 XT.\\n\\nWhile AMD has made significant improvements with their latest GPUs, Nvidia continues to maintain a strong lead in both performance and efficiency. However, it is essential to consider that the market is constantly evolving, and future developments from both companies will play a crucial role in determining their relative positions.\\n\\\"\\\"\\\"\\n\\nYour complete and detailed answer to the problem.\",\n",
      "    \"output\": \"Based on the latest market data and research findings from my notes, Nvidia (NVDA) has been performing relatively well in comparison to AMD. As of the market close, NVDA reached a price of $905.54 with a -1.72% movement compared to the previous day, which lagged the S&P 500's daily gain of 0.13%. However, analysts have set share price targets for NVDA ranging from $475.00 to $1,200.00, with an average anticipated share price of $941.55 in the next year, suggesting a possible upside of 2.2% from the stock's current price.\\n\\nIn terms of GPU performance and efficiency, Nvidia has been leading the market with their latest offerings such as the GeForce RTX 4080. AMD's most efficient GPU is the RX 7900 XTX, but it still falls short compared to Nvidia's offerings. In value for money at 1440p, Intel's Arc A580 ranks first, followed by Nvidia's GeForce RTX 4070 Ti and AMD's Radeon RX 7900 XT.\\n\\nWhile AMD has made significant improvements with their latest GPUs, Nvidia continues to maintain a strong lead in both performance and efficiency. However, it is essential to consider that the market is constantly evolving, and future developments from both companies will play a crucial role in determining their relative positions.\",\n",
      "    \"token_usage\": {\n",
      "      \"total_tokens\": 1087,\n",
      "      \"prompt_tokens\": 807,\n",
      "      \"completion_tokens\": 280\n",
      "    }\n",
      "  }\n",
      "]\n",
      "Total tokens: 1200\n",
      "Based on the latest market data and research findings from my notes, Nvidia (NVDA) has been performing relatively well in comparison to AMD. As of the market close, NVDA reached a price of $905.54 with a -1.72% movement compared to the previous day, which lagged the S&P 500's daily gain of 0.13%. However, analysts have set share price targets for NVDA ranging from $475.00 to $1,200.00, with an average anticipated share price of $941.55 in the next year, suggesting a possible upside of 2.2% from the stock's current price.\n",
      "\n",
      "In terms of GPU performance and efficiency, Nvidia has been leading the market with their latest offerings such as the GeForce RTX 4080. AMD's most efficient GPU is the RX 7900 XTX, but it still falls short compared to Nvidia's offerings. In value for money at 1440p, Intel's Arc A580 ranks first, followed by Nvidia's GeForce RTX 4070 Ti and AMD's Radeon RX 7900 XT.\n",
      "\n",
      "While AMD has made significant improvements with their latest GPUs, Nvidia continues to maintain a strong lead in both performance and efficiency. However, it is essential to consider that the market is constantly evolving, and future developments from both companies will play a crucial role in determining their relative positions.\n"
     ]
    }
   ],
   "source": [
    "future = delegate_agent.ask(Query(initial_state=\"delegate\",\n",
    "                                  goal=\"How does their performance compare to AMD?\"))\n",
    "response = future.get(timeout=120)\n",
    "print(f\"Steps: {json.dumps([step.model_dump() for step in response.metadata['steps']], indent=2)}\")\n",
    "print(f\"Total tokens: {sum((step.token_usage.total_tokens if step.token_usage is not None else 0) for step in response.metadata.get('steps', []))}\")\n",
    "print(response.final_output)"
   ],
   "metadata": {
    "collapsed": false,
    "ExecuteTime": {
     "end_time": "2024-05-08T02:20:49.071866100Z",
     "start_time": "2024-05-08T02:20:32.063372900Z"
    }
   }
  },
  {
   "cell_type": "code",
   "execution_count": 9,
   "outputs": [
    {
     "data": {
      "text/plain": "True"
     },
     "execution_count": 9,
     "metadata": {},
     "output_type": "execute_result"
    }
   ],
   "source": [
    "search_agent.stop()\n",
    "delegate_agent.stop()"
   ],
   "metadata": {
    "collapsed": false,
    "ExecuteTime": {
     "end_time": "2024-05-08T02:20:49.072866200Z",
     "start_time": "2024-05-08T02:20:49.006712300Z"
    }
   }
  }
 ],
 "metadata": {
  "kernelspec": {
   "display_name": "Python 3",
   "language": "python",
   "name": "python3"
  },
  "language_info": {
   "codemirror_mode": {
    "name": "ipython",
    "version": 2
   },
   "file_extension": ".py",
   "mimetype": "text/x-python",
   "name": "python",
   "nbconvert_exporter": "python",
   "pygments_lexer": "ipython2",
   "version": "2.7.6"
  }
 },
 "nbformat": 4,
 "nbformat_minor": 0
}
