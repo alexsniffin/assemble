{
 "cells": [
  {
   "cell_type": "markdown",
   "source": [
    "# Tool Agent"
   ],
   "metadata": {
    "collapsed": false
   }
  },
  {
   "cell_type": "code",
   "execution_count": 1,
   "outputs": [
    {
     "name": "stdout",
     "output_type": "stream",
     "text": [
      "Requirement already satisfied: python-dotenv in c:\\users\\alexander\\appdata\\local\\pypoetry\\cache\\virtualenvs\\assemble-qevgtavi-py3.11\\lib\\site-packages (1.0.1)"
     ]
    },
    {
     "name": "stderr",
     "output_type": "stream",
     "text": [
      "\n",
      "[notice] A new release of pip is available: 23.3.1 -> 24.0\n",
      "[notice] To update, run: python.exe -m pip install --upgrade pip\n"
     ]
    },
    {
     "name": "stdout",
     "output_type": "stream",
     "text": [
      "\n",
      "Requirement already satisfied: langchain-community in c:\\users\\alexander\\appdata\\local\\pypoetry\\cache\\virtualenvs\\assemble-qevgtavi-py3.11\\lib\\site-packages (0.0.36)\n",
      "Requirement already satisfied: wikipedia in c:\\users\\alexander\\appdata\\local\\pypoetry\\cache\\virtualenvs\\assemble-qevgtavi-py3.11\\lib\\site-packages (1.4.0)\n",
      "Requirement already satisfied: PyYAML>=5.3 in c:\\users\\alexander\\appdata\\local\\pypoetry\\cache\\virtualenvs\\assemble-qevgtavi-py3.11\\lib\\site-packages (from langchain-community) (6.0.1)\n",
      "Requirement already satisfied: SQLAlchemy<3,>=1.4 in c:\\users\\alexander\\appdata\\local\\pypoetry\\cache\\virtualenvs\\assemble-qevgtavi-py3.11\\lib\\site-packages (from langchain-community) (2.0.30)\n",
      "Requirement already satisfied: aiohttp<4.0.0,>=3.8.3 in c:\\users\\alexander\\appdata\\local\\pypoetry\\cache\\virtualenvs\\assemble-qevgtavi-py3.11\\lib\\site-packages (from langchain-community) (3.9.5)\n",
      "Requirement already satisfied: dataclasses-json<0.7,>=0.5.7 in c:\\users\\alexander\\appdata\\local\\pypoetry\\cache\\virtualenvs\\assemble-qevgtavi-py3.11\\lib\\site-packages (from langchain-community) (0.6.5)\n",
      "Requirement already satisfied: langchain-core<0.2.0,>=0.1.48 in c:\\users\\alexander\\appdata\\local\\pypoetry\\cache\\virtualenvs\\assemble-qevgtavi-py3.11\\lib\\site-packages (from langchain-community) (0.1.50)\n",
      "Requirement already satisfied: langsmith<0.2.0,>=0.1.0 in c:\\users\\alexander\\appdata\\local\\pypoetry\\cache\\virtualenvs\\assemble-qevgtavi-py3.11\\lib\\site-packages (from langchain-community) (0.1.54)\n",
      "Requirement already satisfied: numpy<2,>=1 in c:\\users\\alexander\\appdata\\local\\pypoetry\\cache\\virtualenvs\\assemble-qevgtavi-py3.11\\lib\\site-packages (from langchain-community) (1.26.4)\n",
      "Requirement already satisfied: requests<3,>=2 in c:\\users\\alexander\\appdata\\local\\pypoetry\\cache\\virtualenvs\\assemble-qevgtavi-py3.11\\lib\\site-packages (from langchain-community) (2.31.0)\n",
      "Requirement already satisfied: tenacity<9.0.0,>=8.1.0 in c:\\users\\alexander\\appdata\\local\\pypoetry\\cache\\virtualenvs\\assemble-qevgtavi-py3.11\\lib\\site-packages (from langchain-community) (8.2.3)\n",
      "Requirement already satisfied: beautifulsoup4 in c:\\users\\alexander\\appdata\\local\\pypoetry\\cache\\virtualenvs\\assemble-qevgtavi-py3.11\\lib\\site-packages (from wikipedia) (4.12.3)\n",
      "Requirement already satisfied: aiosignal>=1.1.2 in c:\\users\\alexander\\appdata\\local\\pypoetry\\cache\\virtualenvs\\assemble-qevgtavi-py3.11\\lib\\site-packages (from aiohttp<4.0.0,>=3.8.3->langchain-community) (1.3.1)\n",
      "Requirement already satisfied: attrs>=17.3.0 in c:\\users\\alexander\\appdata\\local\\pypoetry\\cache\\virtualenvs\\assemble-qevgtavi-py3.11\\lib\\site-packages (from aiohttp<4.0.0,>=3.8.3->langchain-community) (23.2.0)\n",
      "Requirement already satisfied: frozenlist>=1.1.1 in c:\\users\\alexander\\appdata\\local\\pypoetry\\cache\\virtualenvs\\assemble-qevgtavi-py3.11\\lib\\site-packages (from aiohttp<4.0.0,>=3.8.3->langchain-community) (1.4.1)\n",
      "Requirement already satisfied: multidict<7.0,>=4.5 in c:\\users\\alexander\\appdata\\local\\pypoetry\\cache\\virtualenvs\\assemble-qevgtavi-py3.11\\lib\\site-packages (from aiohttp<4.0.0,>=3.8.3->langchain-community) (6.0.5)\n",
      "Requirement already satisfied: yarl<2.0,>=1.0 in c:\\users\\alexander\\appdata\\local\\pypoetry\\cache\\virtualenvs\\assemble-qevgtavi-py3.11\\lib\\site-packages (from aiohttp<4.0.0,>=3.8.3->langchain-community) (1.9.4)\n",
      "Requirement already satisfied: marshmallow<4.0.0,>=3.18.0 in c:\\users\\alexander\\appdata\\local\\pypoetry\\cache\\virtualenvs\\assemble-qevgtavi-py3.11\\lib\\site-packages (from dataclasses-json<0.7,>=0.5.7->langchain-community) (3.21.2)\n",
      "Requirement already satisfied: typing-inspect<1,>=0.4.0 in c:\\users\\alexander\\appdata\\local\\pypoetry\\cache\\virtualenvs\\assemble-qevgtavi-py3.11\\lib\\site-packages (from dataclasses-json<0.7,>=0.5.7->langchain-community) (0.9.0)\n",
      "Requirement already satisfied: jsonpatch<2.0,>=1.33 in c:\\users\\alexander\\appdata\\local\\pypoetry\\cache\\virtualenvs\\assemble-qevgtavi-py3.11\\lib\\site-packages (from langchain-core<0.2.0,>=0.1.48->langchain-community) (1.33)\n",
      "Requirement already satisfied: packaging<24.0,>=23.2 in c:\\users\\alexander\\appdata\\local\\pypoetry\\cache\\virtualenvs\\assemble-qevgtavi-py3.11\\lib\\site-packages (from langchain-core<0.2.0,>=0.1.48->langchain-community) (23.2)\n",
      "Requirement already satisfied: pydantic<3,>=1 in c:\\users\\alexander\\appdata\\local\\pypoetry\\cache\\virtualenvs\\assemble-qevgtavi-py3.11\\lib\\site-packages (from langchain-core<0.2.0,>=0.1.48->langchain-community) (2.7.1)\n",
      "Requirement already satisfied: orjson<4.0.0,>=3.9.14 in c:\\users\\alexander\\appdata\\local\\pypoetry\\cache\\virtualenvs\\assemble-qevgtavi-py3.11\\lib\\site-packages (from langsmith<0.2.0,>=0.1.0->langchain-community) (3.10.3)\n",
      "Requirement already satisfied: charset-normalizer<4,>=2 in c:\\users\\alexander\\appdata\\local\\pypoetry\\cache\\virtualenvs\\assemble-qevgtavi-py3.11\\lib\\site-packages (from requests<3,>=2->langchain-community) (3.3.2)\n",
      "Requirement already satisfied: idna<4,>=2.5 in c:\\users\\alexander\\appdata\\local\\pypoetry\\cache\\virtualenvs\\assemble-qevgtavi-py3.11\\lib\\site-packages (from requests<3,>=2->langchain-community) (3.7)\n",
      "Requirement already satisfied: urllib3<3,>=1.21.1 in c:\\users\\alexander\\appdata\\local\\pypoetry\\cache\\virtualenvs\\assemble-qevgtavi-py3.11\\lib\\site-packages (from requests<3,>=2->langchain-community) (2.2.1)\n",
      "Requirement already satisfied: certifi>=2017.4.17 in c:\\users\\alexander\\appdata\\local\\pypoetry\\cache\\virtualenvs\\assemble-qevgtavi-py3.11\\lib\\site-packages (from requests<3,>=2->langchain-community) (2024.2.2)\n",
      "Requirement already satisfied: typing-extensions>=4.6.0 in c:\\users\\alexander\\appdata\\local\\pypoetry\\cache\\virtualenvs\\assemble-qevgtavi-py3.11\\lib\\site-packages (from SQLAlchemy<3,>=1.4->langchain-community) (4.11.0)\n",
      "Requirement already satisfied: greenlet!=0.4.17 in c:\\users\\alexander\\appdata\\local\\pypoetry\\cache\\virtualenvs\\assemble-qevgtavi-py3.11\\lib\\site-packages (from SQLAlchemy<3,>=1.4->langchain-community) (3.0.3)\n",
      "Requirement already satisfied: soupsieve>1.2 in c:\\users\\alexander\\appdata\\local\\pypoetry\\cache\\virtualenvs\\assemble-qevgtavi-py3.11\\lib\\site-packages (from beautifulsoup4->wikipedia) (2.5)\n",
      "Requirement already satisfied: jsonpointer>=1.9 in c:\\users\\alexander\\appdata\\local\\pypoetry\\cache\\virtualenvs\\assemble-qevgtavi-py3.11\\lib\\site-packages (from jsonpatch<2.0,>=1.33->langchain-core<0.2.0,>=0.1.48->langchain-community) (2.4)\n",
      "Requirement already satisfied: annotated-types>=0.4.0 in c:\\users\\alexander\\appdata\\local\\pypoetry\\cache\\virtualenvs\\assemble-qevgtavi-py3.11\\lib\\site-packages (from pydantic<3,>=1->langchain-core<0.2.0,>=0.1.48->langchain-community) (0.6.0)\n",
      "Requirement already satisfied: pydantic-core==2.18.2 in c:\\users\\alexander\\appdata\\local\\pypoetry\\cache\\virtualenvs\\assemble-qevgtavi-py3.11\\lib\\site-packages (from pydantic<3,>=1->langchain-core<0.2.0,>=0.1.48->langchain-community) (2.18.2)\n",
      "Requirement already satisfied: mypy-extensions>=0.3.0 in c:\\users\\alexander\\appdata\\local\\pypoetry\\cache\\virtualenvs\\assemble-qevgtavi-py3.11\\lib\\site-packages (from typing-inspect<1,>=0.4.0->dataclasses-json<0.7,>=0.5.7->langchain-community) (1.0.0)\n"
     ]
    }
   ],
   "source": [
    "!pip install python-dotenv langchain-community wikipedia"
   ],
   "metadata": {
    "collapsed": false,
    "ExecuteTime": {
     "end_time": "2024-05-07T23:33:15.609137700Z",
     "start_time": "2024-05-07T23:33:14.412407400Z"
    }
   }
  },
  {
   "cell_type": "code",
   "execution_count": 2,
   "outputs": [],
   "source": [
    "import os\n",
    "\n",
    "from dotenv import load_dotenv\n",
    "\n",
    "load_dotenv()\n",
    "api_key = os.getenv(\"OPENAI_API_KEY\")"
   ],
   "metadata": {
    "collapsed": false,
    "ExecuteTime": {
     "end_time": "2024-05-07T23:33:15.615455500Z",
     "start_time": "2024-05-07T23:33:15.610137800Z"
    }
   }
  },
  {
   "cell_type": "code",
   "execution_count": 3,
   "outputs": [],
   "source": [
    "import enum\n",
    "import logging\n",
    "from typing import Optional, List\n",
    "\n",
    "from app.core.agents.base import AgentBase\n",
    "from app.core.llm.generator import Generator\n",
    "from app.core.memory.memory import Memory\n",
    "from app.core.persona import Persona\n",
    "from app.core.states.base import StateBase, Transition\n",
    "from app.core.tools.adapter import ToolAdapter\n",
    "from app.states.defaults import text_handler, tools_handler\n",
    "from app.states.final_answer.state import FinalAnswerState\n",
    "from app.states.rewrite_question.state import RewriteQuestionState\n",
    "\n",
    "logger = logging.getLogger(__name__)\n",
    "\n",
    "\n",
    "class States(str, enum.Enum):\n",
    "    REWRITE_QUESTION = RewriteQuestionState.name\n",
    "    SEARCH = \"search\"\n",
    "    SEARCH_FILTER = \"search_filter\"\n",
    "    FINAL_ANSWER = \"final_answer\"\n",
    "\n",
    "\n",
    "class ConversationalSearchAgent(AgentBase):\n",
    "    name: str = \"SearchAgent\"\n",
    "    description: str = \"Specializes in searching for information.\"\n",
    "\n",
    "    def after_generation(self, response: str, memory: Memory, tools: Optional[List[ToolAdapter]]) -> Transition:\n",
    "        return tools_handler(\n",
    "            response=response,\n",
    "            memory=memory,\n",
    "            tools=tools,\n",
    "            next_state=States.SEARCH_FILTER,\n",
    "            save_data_key=\"search_results\"\n",
    "        )\n",
    "\n",
    "\n",
    "class SearchState(StateBase):\n",
    "    name: str = States.SEARCH\n",
    "\n",
    "    def build_prompt(self, persona: Persona, memory: Memory, tools: Optional[List[ToolAdapter]]) -> str:\n",
    "        prompt = f'''{persona.prompt()}\n",
    "\n",
    "Search for information using your tools to help solve the following problem.\n",
    "\n",
    "Current Problem:\n",
    "\"\"\"\n",
    "{memory.data.get_current_message().content}\n",
    "\"\"\"\n",
    "\n",
    "Previous Notes:\n",
    "\"\"\"\n",
    "{memory.scratch_pad.prompt()}\n",
    "\"\"\"\n",
    "\n",
    "Here are the schemas for the tools you have access to, pick only one:\n",
    "\"\"\"\n",
    "{[tool.schema() for tool in tools]}\n",
    "\"\"\"\n",
    "\n",
    "Respond with the JSON input for the tool of your choice to best solve the problem.'''\n",
    "        return prompt\n",
    "\n",
    "    def after_generation(self, response: str, memory: Memory, tools: Optional[List[ToolAdapter]]) -> Transition:\n",
    "        return tools_handler(\n",
    "            response=response,\n",
    "            memory=memory,\n",
    "            tools=tools,\n",
    "            next_state=States.SEARCH_FILTER,\n",
    "            save_data_key=\"search_results\"\n",
    "        )\n",
    "\n",
    "\n",
    "class SearchFilterState(StateBase):\n",
    "    name: str = States.SEARCH_FILTER\n",
    "\n",
    "    def build_prompt(self, persona: Persona, memory: Memory, _: Optional[List[ToolAdapter]]) -> str:\n",
    "        search_results = memory.data.pop(\"search_results\")\n",
    "        prompt = f'''{persona.prompt()}\n",
    "\n",
    "Given the search results, filter out unrelated information that doesn't directly answer the problem. Return a summarized version of the search results with the most important details for the problem.\n",
    "\n",
    "Current Problem:\n",
    "\"\"\"\n",
    "{memory.data.get_current_message().content}\n",
    "\"\"\"\n",
    "\n",
    "Search Results:\n",
    "\"\"\"\n",
    "{search_results}\n",
    "\"\"\"\n",
    "\n",
    "Give your summarized search results with the most important details for the problem.'''\n",
    "        return prompt\n",
    "\n",
    "    def after_generation(self, response: str, memory: Memory, _: Optional[List[ToolAdapter]]) -> Transition:\n",
    "        return text_handler(\n",
    "            response=response,\n",
    "            memory=memory,\n",
    "            next_state=States.FINAL_ANSWER\n",
    "        )"
   ],
   "metadata": {
    "collapsed": false,
    "ExecuteTime": {
     "end_time": "2024-05-07T23:33:15.704993300Z",
     "start_time": "2024-05-07T23:33:15.618455100Z"
    }
   }
  },
  {
   "cell_type": "code",
   "execution_count": 4,
   "outputs": [],
   "source": [
    "from app.llm.openai.service import OpenAIService\n",
    "\n",
    "llm = OpenAIService(api_key=api_key)"
   ],
   "metadata": {
    "collapsed": false,
    "ExecuteTime": {
     "end_time": "2024-05-07T23:33:16.055667500Z",
     "start_time": "2024-05-07T23:33:15.704993300Z"
    }
   }
  },
  {
   "cell_type": "code",
   "execution_count": 5,
   "metadata": {
    "collapsed": true,
    "ExecuteTime": {
     "end_time": "2024-05-07T23:33:27.394507300Z",
     "start_time": "2024-05-07T23:33:16.058667300Z"
    }
   },
   "outputs": [
    {
     "name": "stdout",
     "output_type": "stream",
     "text": [
      "Steps: [\n",
      "  {\n",
      "    \"state_name\": \"rewrite_question\",\n",
      "    \"next_state\": \"States.SEARCH\",\n",
      "    \"prompt\": null,\n",
      "    \"output\": null,\n",
      "    \"token_usage\": null\n",
      "  },\n",
      "  {\n",
      "    \"state_name\": \"States.SEARCH\",\n",
      "    \"next_state\": \"States.SEARCH_FILTER\",\n",
      "    \"prompt\": \"You are a helpful assistant specializing in searching and filtering information.\\n\\nSearch for information using your tools to help solve the following problem.\\n\\nCurrent Problem:\\n\\\"\\\"\\\"\\nWho is the CEO of Microsoft?\\n\\\"\\\"\\\"\\n\\nPrevious Notes:\\n\\\"\\\"\\\"\\n\\nREWRITE_QUESTION: None\\n\\\"\\\"\\\"\\n\\nHere are the schemas for the tools you have access to, pick only one:\\n\\\"\\\"\\\"\\n[{'name': 'wikipedia', 'description': 'A wrapper around Wikipedia. Useful for when you need to answer general questions about people, places, companies, facts, historical events, or other subjects. Input should be a search query.', 'title': 'wikipediaSchema', 'type': 'object', 'properties': {'query': {'title': 'Query', 'type': 'string'}, 'tool_name': {'title': 'Name', 'type': 'string'}}, 'required': ['query', 'tool_name']}]\\n\\\"\\\"\\\"\\n\\nRespond with the JSON input for the tool of your choice to best solve the problem.\",\n",
      "    \"output\": \"Tool executed for wikipedia.\\nInput: {\\n  \\\"query\\\": \\\"CEO of Microsoft\\\",\\n  \\\"tool_name\\\": \\\"wikipedia\\\"\\n}\\nOutput: Page: Microsoft Gaming\\nSummary: Microsoft Gaming is an American multinational video game and digital entertainment division of Microsoft based in Redmond, Washington established in 2022. It produces the Xbox video game consoles and services, in addition to overseeing production and sales, and is led by CEO Phil Spencer, who oversaw Xbox since 2014. Its five development and publishing labels consist of: Xbox Game Studios, Bethesda Softworks (publisher of ZeniMax Media), Activision, Blizzard Entertainment, and King (aforementioned are publishers of Activision Blizzard).\\nPrior to 2022, Microsoft had several different video game-related product lines, including Xbox hardware, Xbox operations, and game development studios. Microsoft Gaming was created with the announcement of Microsoft's plans to acquire Activision Blizzard to unify all of Microsoft's gaming groups within a single division. With the completion of the Activision Blizzard acquisition in 2023, Microsoft became one of the largest gaming companies, the third-by revenue and the largest by employment. \\nThe division owns Intellectual property for some of the most popular, best-selling, and highest-grossing media franchises of all time, including Call of Duty, Candy Crush, Warcraft, Halo, Minecraft, and The Elder Scrolls.\\n\\n\\n\\nPage: Satya Nadella\\nSummary: Satya Narayana Nadella (; born 19 August 1967) is an Indian-American business executive. He is the executive chairman and CEO of Microsoft, succeeding Steve Ballmer in 2014 as CEO and John W. Thompson in 2021 as chairman. Before becoming CEO, he was the executive vice president of Microsoft's cloud and enterprise group, responsible for building and running the company's computing platforms.\\n\\n\\n\\nPage: Phil Spencer (business executive)\\nSummary: Phil Spencer (born January 12, 1968) is an American business executive and the CEO of Microsoft Gaming. Starting his career at Microsoft as an intern in 1988, Spencer has worked in various sectors within the company, including developing Microsoft's first CD-ROM-based titles. He joined the Xbox team in 2001.\",\n",
      "    \"token_usage\": {\n",
      "      \"total_tokens\": 219,\n",
      "      \"prompt_tokens\": 199,\n",
      "      \"completion_tokens\": 20\n",
      "    }\n",
      "  },\n",
      "  {\n",
      "    \"state_name\": \"States.SEARCH_FILTER\",\n",
      "    \"next_state\": \"States.FINAL_ANSWER\",\n",
      "    \"prompt\": \"You are a helpful assistant specializing in searching and filtering information.\\n\\nGiven the search results, filter out unrelated information that doesn't directly answer the problem. Return a summarized version of the search results with the most important details for the problem.\\n\\nCurrent Problem:\\n\\\"\\\"\\\"\\nWho is the CEO of Microsoft?\\n\\\"\\\"\\\"\\n\\nSearch Results:\\n\\\"\\\"\\\"\\nTool executed for wikipedia.\\nInput: {\\n  \\\"query\\\": \\\"CEO of Microsoft\\\",\\n  \\\"tool_name\\\": \\\"wikipedia\\\"\\n}\\nOutput: Page: Microsoft Gaming\\nSummary: Microsoft Gaming is an American multinational video game and digital entertainment division of Microsoft based in Redmond, Washington established in 2022. It produces the Xbox video game consoles and services, in addition to overseeing production and sales, and is led by CEO Phil Spencer, who oversaw Xbox since 2014. Its five development and publishing labels consist of: Xbox Game Studios, Bethesda Softworks (publisher of ZeniMax Media), Activision, Blizzard Entertainment, and King (aforementioned are publishers of Activision Blizzard).\\nPrior to 2022, Microsoft had several different video game-related product lines, including Xbox hardware, Xbox operations, and game development studios. Microsoft Gaming was created with the announcement of Microsoft's plans to acquire Activision Blizzard to unify all of Microsoft's gaming groups within a single division. With the completion of the Activision Blizzard acquisition in 2023, Microsoft became one of the largest gaming companies, the third-by revenue and the largest by employment. \\nThe division owns Intellectual property for some of the most popular, best-selling, and highest-grossing media franchises of all time, including Call of Duty, Candy Crush, Warcraft, Halo, Minecraft, and The Elder Scrolls.\\n\\n\\n\\nPage: Satya Nadella\\nSummary: Satya Narayana Nadella (; born 19 August 1967) is an Indian-American business executive. He is the executive chairman and CEO of Microsoft, succeeding Steve Ballmer in 2014 as CEO and John W. Thompson in 2021 as chairman. Before becoming CEO, he was the executive vice president of Microsoft's cloud and enterprise group, responsible for building and running the company's computing platforms.\\n\\n\\n\\nPage: Phil Spencer (business executive)\\nSummary: Phil Spencer (born January 12, 1968) is an American business executive and the CEO of Microsoft Gaming. Starting his career at Microsoft as an intern in 1988, Spencer has worked in various sectors within the company, including developing Microsoft's first CD-ROM-based titles. He joined the Xbox team in 2001.\\n\\\"\\\"\\\"\\n\\nGive your summarized search results with the most important details for the problem.\",\n",
      "    \"output\": \"The CEO of Microsoft is Satya Nadella, who succeeded Steve Ballmer in 2014. Phil Spencer is the CEO of Microsoft Gaming, a division of Microsoft that oversees Xbox and other gaming services.\",\n",
      "    \"token_usage\": {\n",
      "      \"total_tokens\": 571,\n",
      "      \"prompt_tokens\": 530,\n",
      "      \"completion_tokens\": 41\n",
      "    }\n",
      "  },\n",
      "  {\n",
      "    \"state_name\": \"final_answer\",\n",
      "    \"next_state\": \"exit\",\n",
      "    \"prompt\": \"You are a helpful assistant specializing in searching and filtering information.\\n\\nGiven the problem from the user, use your notes to give an answer. Directly address the problem.\\n\\nProblem:\\n\\\"\\\"\\\"\\nWho is the CEO of Microsoft?\\n\\\"\\\"\\\"\\n\\nNotes from oldest to newest:\\n\\\"\\\"\\\"\\n\\nREWRITE_QUESTION: None\\n- SEARCH: Tool executed for wikipedia.\\nInput: {\\n  \\\"query\\\": \\\"CEO of Microsoft\\\",\\n  \\\"tool_name\\\": \\\"wikipedia\\\"\\n}\\nOutput: Page: Microsoft Gaming\\nSummary: Microsoft Gaming is an American multinational video game and digital entertainment division of Microsoft based in Redmond, Washington established in 2022. It produces the Xbox video game consoles and services, in addition to overseeing production and sales, and is led by CEO Phil Spencer, who oversaw Xbox since 2014. Its five development and publishing labels consist of: Xbox Game Studios, Bethesda Softworks (publisher of ZeniMax Media), Activision, Blizzard Entertainment, and King (aforementioned are publishers of Activision Blizzard).\\nPrior to 2022, Microsoft had several different video game-related product lines, including Xbox hardware, Xbox operations, and game development studios. Microsoft Gaming was created with the announcement of Microsoft's plans to acquire Activision Blizzard to unify all of Microsoft's gaming groups within a single division. With the completion of the Activision Blizzard acquisition in 2023, Microsoft became one of the largest gaming companies, the third-by revenue and the largest by employment. \\nThe division owns Intellectual property for some of the most popular, best-selling, and highest-grossing media franchises of all time, including Call of Duty, Candy Crush, Warcraft, Halo, Minecraft, and The Elder Scrolls.\\n\\n\\n\\nPage: Satya Nadella\\nSummary: Satya Narayana Nadella (; born 19 August 1967) is an Indian-American business executive. He is the executive chairman and CEO of Microsoft, succeeding Steve Ballmer in 2014 as CEO and John W. Thompson in 2021 as chairman. Before becoming CEO, he was the executive vice president of Microsoft's cloud and enterprise group, responsible for building and running the company's computing platforms.\\n\\n\\n\\nPage: Phil Spencer (business executive)\\nSummary: Phil Spencer (born January 12, 1968) is an American business executive and the CEO of Microsoft Gaming. Starting his career at Microsoft as an intern in 1988, Spencer has worked in various sectors within the company, including developing Microsoft's first CD-ROM-based titles. He joined the Xbox team in 2001.\\n- SEARCH_FILTER: The CEO of Microsoft is Satya Nadella, who succeeded Steve Ballmer in 2014. Phil Spencer is the CEO of Microsoft Gaming, a division of Microsoft that oversees Xbox and other gaming services.\\n\\\"\\\"\\\"\\n\\nYour answer to the problem.\",\n",
      "    \"output\": \"The CEO of Microsoft is Satya Nadella.\",\n",
      "    \"token_usage\": {\n",
      "      \"total_tokens\": 575,\n",
      "      \"prompt_tokens\": 565,\n",
      "      \"completion_tokens\": 10\n",
      "    }\n",
      "  }\n",
      "]\n",
      "Total tokens: 1365\n",
      "The CEO of Microsoft is Satya Nadella.\n",
      "Steps: [\n",
      "  {\n",
      "    \"state_name\": \"rewrite_question\",\n",
      "    \"next_state\": \"States.SEARCH\",\n",
      "    \"prompt\": \"Rewrite the last message from user into a single, coherent statement using the context from the conversation history.\\n\\nPlease focus solely on rewriting the message clearly; do not respond to any queries it contains. Do not summarize, simply capture the subject being discussed to best rewrite the last message.\\n\\nExample of a good rewrite:\\n\\\"\\\"\\\"\\nuser: What color is the sky?\\nassistant: The sky is blue.\\nuser: Why is it that color?\\nRewritten message: Why is the sky blue?\\n\\\"\\\"\\\"\\n\\nExample of a bad rewrite:\\n\\\"\\\"\\\"\\nuser: What color is the sky?\\nassistant: The sky is blue.\\nuser: Why is it that color?\\nRewritten message: The sky is blue because of Rayleigh scattering.\\n\\\"\\\"\\\"\\n\\nuser: Who is the CEO of Microsoft?\\n\\nSearchAgent: The CEO of Microsoft is Satya Nadella.\\n\\nuser: Where are they from?\\n\\nRewritten message: \",\n",
      "    \"output\": \"Where is Satya Nadella from?\",\n",
      "    \"token_usage\": {\n",
      "      \"total_tokens\": 191,\n",
      "      \"prompt_tokens\": 183,\n",
      "      \"completion_tokens\": 8\n",
      "    }\n",
      "  },\n",
      "  {\n",
      "    \"state_name\": \"States.SEARCH\",\n",
      "    \"next_state\": \"States.SEARCH_FILTER\",\n",
      "    \"prompt\": \"You are a helpful assistant specializing in searching and filtering information.\\n\\nSearch for information using your tools to help solve the following problem.\\n\\nCurrent Problem:\\n\\\"\\\"\\\"\\nWhere are they from?\\n\\\"\\\"\\\"\\n\\nPrevious Notes:\\n\\\"\\\"\\\"\\n\\nREWRITE_QUESTION: None\\n- SEARCH: Tool executed for wikipedia.\\nInput: {\\n  \\\"query\\\": \\\"CEO of Microsoft\\\",\\n  \\\"tool_name\\\": \\\"wikipedia\\\"\\n}\\nOutput: Page: Microsoft Gaming\\nSummary: Microsoft Gaming is an American multinational video game and digital entertainment division of Microsoft based in Redmond, Washington established in 2022. It produces the Xbox video game consoles and services, in addition to overseeing production and sales, and is led by CEO Phil Spencer, who oversaw Xbox since 2014. Its five development and publishing labels consist of: Xbox Game Studios, Bethesda Softworks (publisher of ZeniMax Media), Activision, Blizzard Entertainment, and King (aforementioned are publishers of Activision Blizzard).\\nPrior to 2022, Microsoft had several different video game-related product lines, including Xbox hardware, Xbox operations, and game development studios. Microsoft Gaming was created with the announcement of Microsoft's plans to acquire Activision Blizzard to unify all of Microsoft's gaming groups within a single division. With the completion of the Activision Blizzard acquisition in 2023, Microsoft became one of the largest gaming companies, the third-by revenue and the largest by employment. \\nThe division owns Intellectual property for some of the most popular, best-selling, and highest-grossing media franchises of all time, including Call of Duty, Candy Crush, Warcraft, Halo, Minecraft, and The Elder Scrolls.\\n\\n\\n\\nPage: Satya Nadella\\nSummary: Satya Narayana Nadella (; born 19 August 1967) is an Indian-American business executive. He is the executive chairman and CEO of Microsoft, succeeding Steve Ballmer in 2014 as CEO and John W. Thompson in 2021 as chairman. Before becoming CEO, he was the executive vice president of Microsoft's cloud and enterprise group, responsible for building and running the company's computing platforms.\\n\\n\\n\\nPage: Phil Spencer (business executive)\\nSummary: Phil Spencer (born January 12, 1968) is an American business executive and the CEO of Microsoft Gaming. Starting his career at Microsoft as an intern in 1988, Spencer has worked in various sectors within the company, including developing Microsoft's first CD-ROM-based titles. He joined the Xbox team in 2001.\\n- SEARCH_FILTER: The CEO of Microsoft is Satya Nadella, who succeeded Steve Ballmer in 2014. Phil Spencer is the CEO of Microsoft Gaming, a division of Microsoft that oversees Xbox and other gaming services.\\n- FINAL_ANSWER: The CEO of Microsoft is Satya Nadella.\\n- REWRITE_QUESTION: Where is Satya Nadella from?\\n\\\"\\\"\\\"\\n\\nHere are the schemas for the tools you have access to, pick only one:\\n\\\"\\\"\\\"\\n[{'name': 'wikipedia', 'description': 'A wrapper around Wikipedia. Useful for when you need to answer general questions about people, places, companies, facts, historical events, or other subjects. Input should be a search query.', 'title': 'wikipediaSchema', 'type': 'object', 'properties': {'query': {'title': 'Query', 'type': 'string'}, 'tool_name': {'title': 'Name', 'type': 'string'}}, 'required': ['query', 'tool_name']}]\\n\\\"\\\"\\\"\\n\\nRespond with the JSON input for the tool of your choice to best solve the problem.\",\n",
      "    \"output\": \"Tool executed for wikipedia.\\nInput: {\\n  \\\"query\\\": \\\"Satya Nadella\\\",\\n  \\\"tool_name\\\": \\\"wikipedia\\\"\\n}\\nOutput: Page: Satya Nadella\\nSummary: Satya Narayana Nadella (; born 19 August 1967) is an Indian-American business executive. He is the executive chairman and CEO of Microsoft, succeeding Steve Ballmer in 2014 as CEO and John W. Thompson in 2021 as chairman. Before becoming CEO, he was the executive vice president of Microsoft's cloud and enterprise group, responsible for building and running the company's computing platforms.\\n\\n\\n\\nPage: Major League Cricket\\nSummary: Major League Cricket (MLC) is a professional Twenty20 cricket league in the United States. Operated by American Cricket Enterprises (ACE) and sanctioned by USA Cricket, it began play on July 13, 2023, with six teams representing major US cities under a single-entity model. The first season took place over three weeks at Grand Prairie Stadium in Grand Prairie, Texas, and Church Street Park in Morrisville, North Carolina, concluding on July 30, 2023. In 2021, the development league for MLC, Minor League Cricket (MiLC), completed its inaugural season, which was contested by 27 franchise-based teams.\\n\\n\\n\\nPage: Xbox Game Studios\\nSummary: Xbox Game Studios (previously known as Microsoft Studios, Microsoft Game Studios, and Microsoft Games) is an American video game publisher based in Redmond, Washington. It was established in March 2000, spun out from an internal Games Group, for the development and publishing of video games for Microsoft Windows. It has since expanded to include games and other interactive entertainment for the namesake Xbox platforms, other desktop operating systems, Windows Mobile and other mobile platforms, web-based portals, and other game consoles.\\nXbox Game Studios, alongside ZeniMax Media and Activision Blizzard, are part of the Microsoft Gaming division led by Phil Spencer, who is chief executive officer of the division.\",\n",
      "    \"token_usage\": {\n",
      "      \"total_tokens\": 740,\n",
      "      \"prompt_tokens\": 719,\n",
      "      \"completion_tokens\": 21\n",
      "    }\n",
      "  },\n",
      "  {\n",
      "    \"state_name\": \"States.SEARCH_FILTER\",\n",
      "    \"next_state\": \"States.FINAL_ANSWER\",\n",
      "    \"prompt\": \"You are a helpful assistant specializing in searching and filtering information.\\n\\nGiven the search results, filter out unrelated information that doesn't directly answer the problem. Return a summarized version of the search results with the most important details for the problem.\\n\\nCurrent Problem:\\n\\\"\\\"\\\"\\nWhere are they from?\\n\\\"\\\"\\\"\\n\\nSearch Results:\\n\\\"\\\"\\\"\\nTool executed for wikipedia.\\nInput: {\\n  \\\"query\\\": \\\"Satya Nadella\\\",\\n  \\\"tool_name\\\": \\\"wikipedia\\\"\\n}\\nOutput: Page: Satya Nadella\\nSummary: Satya Narayana Nadella (; born 19 August 1967) is an Indian-American business executive. He is the executive chairman and CEO of Microsoft, succeeding Steve Ballmer in 2014 as CEO and John W. Thompson in 2021 as chairman. Before becoming CEO, he was the executive vice president of Microsoft's cloud and enterprise group, responsible for building and running the company's computing platforms.\\n\\n\\n\\nPage: Major League Cricket\\nSummary: Major League Cricket (MLC) is a professional Twenty20 cricket league in the United States. Operated by American Cricket Enterprises (ACE) and sanctioned by USA Cricket, it began play on July 13, 2023, with six teams representing major US cities under a single-entity model. The first season took place over three weeks at Grand Prairie Stadium in Grand Prairie, Texas, and Church Street Park in Morrisville, North Carolina, concluding on July 30, 2023. In 2021, the development league for MLC, Minor League Cricket (MiLC), completed its inaugural season, which was contested by 27 franchise-based teams.\\n\\n\\n\\nPage: Xbox Game Studios\\nSummary: Xbox Game Studios (previously known as Microsoft Studios, Microsoft Game Studios, and Microsoft Games) is an American video game publisher based in Redmond, Washington. It was established in March 2000, spun out from an internal Games Group, for the development and publishing of video games for Microsoft Windows. It has since expanded to include games and other interactive entertainment for the namesake Xbox platforms, other desktop operating systems, Windows Mobile and other mobile platforms, web-based portals, and other game consoles.\\nXbox Game Studios, alongside ZeniMax Media and Activision Blizzard, are part of the Microsoft Gaming division led by Phil Spencer, who is chief executive officer of the division.\\n\\\"\\\"\\\"\\n\\nGive your summarized search results with the most important details for the problem.\",\n",
      "    \"output\": \"Based on the search results:\\n\\n1. Satya Nadella is an Indian-American business executive who is the executive chairman and CEO of Microsoft.\\n2. Major League Cricket (MLC) is a professional Twenty20 cricket league in the United States.\\n3. Xbox Game Studios is an American video game publisher based in Redmond, Washington.\",\n",
      "    \"token_usage\": {\n",
      "      \"total_tokens\": 556,\n",
      "      \"prompt_tokens\": 489,\n",
      "      \"completion_tokens\": 67\n",
      "    }\n",
      "  },\n",
      "  {\n",
      "    \"state_name\": \"final_answer\",\n",
      "    \"next_state\": \"exit\",\n",
      "    \"prompt\": \"You are a helpful assistant specializing in searching and filtering information.\\n\\nGiven the problem from the user, use your notes to give an answer. Directly address the problem.\\n\\nProblem:\\n\\\"\\\"\\\"\\nWhere are they from?\\n\\\"\\\"\\\"\\n\\nNotes from oldest to newest:\\n\\\"\\\"\\\"\\n\\nREWRITE_QUESTION: None\\n- SEARCH: Tool executed for wikipedia.\\nInput: {\\n  \\\"query\\\": \\\"CEO of Microsoft\\\",\\n  \\\"tool_name\\\": \\\"wikipedia\\\"\\n}\\nOutput: Page: Microsoft Gaming\\nSummary: Microsoft Gaming is an American multinational video game and digital entertainment division of Microsoft based in Redmond, Washington established in 2022. It produces the Xbox video game consoles and services, in addition to overseeing production and sales, and is led by CEO Phil Spencer, who oversaw Xbox since 2014. Its five development and publishing labels consist of: Xbox Game Studios, Bethesda Softworks (publisher of ZeniMax Media), Activision, Blizzard Entertainment, and King (aforementioned are publishers of Activision Blizzard).\\nPrior to 2022, Microsoft had several different video game-related product lines, including Xbox hardware, Xbox operations, and game development studios. Microsoft Gaming was created with the announcement of Microsoft's plans to acquire Activision Blizzard to unify all of Microsoft's gaming groups within a single division. With the completion of the Activision Blizzard acquisition in 2023, Microsoft became one of the largest gaming companies, the third-by revenue and the largest by employment. \\nThe division owns Intellectual property for some of the most popular, best-selling, and highest-grossing media franchises of all time, including Call of Duty, Candy Crush, Warcraft, Halo, Minecraft, and The Elder Scrolls.\\n\\n\\n\\nPage: Satya Nadella\\nSummary: Satya Narayana Nadella (; born 19 August 1967) is an Indian-American business executive. He is the executive chairman and CEO of Microsoft, succeeding Steve Ballmer in 2014 as CEO and John W. Thompson in 2021 as chairman. Before becoming CEO, he was the executive vice president of Microsoft's cloud and enterprise group, responsible for building and running the company's computing platforms.\\n\\n\\n\\nPage: Phil Spencer (business executive)\\nSummary: Phil Spencer (born January 12, 1968) is an American business executive and the CEO of Microsoft Gaming. Starting his career at Microsoft as an intern in 1988, Spencer has worked in various sectors within the company, including developing Microsoft's first CD-ROM-based titles. He joined the Xbox team in 2001.\\n- SEARCH_FILTER: The CEO of Microsoft is Satya Nadella, who succeeded Steve Ballmer in 2014. Phil Spencer is the CEO of Microsoft Gaming, a division of Microsoft that oversees Xbox and other gaming services.\\n- FINAL_ANSWER: The CEO of Microsoft is Satya Nadella.\\n- REWRITE_QUESTION: Where is Satya Nadella from?\\n- SEARCH: Tool executed for wikipedia.\\nInput: {\\n  \\\"query\\\": \\\"Satya Nadella\\\",\\n  \\\"tool_name\\\": \\\"wikipedia\\\"\\n}\\nOutput: Page: Satya Nadella\\nSummary: Satya Narayana Nadella (; born 19 August 1967) is an Indian-American business executive. He is the executive chairman and CEO of Microsoft, succeeding Steve Ballmer in 2014 as CEO and John W. Thompson in 2021 as chairman. Before becoming CEO, he was the executive vice president of Microsoft's cloud and enterprise group, responsible for building and running the company's computing platforms.\\n\\n\\n\\nPage: Major League Cricket\\nSummary: Major League Cricket (MLC) is a professional Twenty20 cricket league in the United States. Operated by American Cricket Enterprises (ACE) and sanctioned by USA Cricket, it began play on July 13, 2023, with six teams representing major US cities under a single-entity model. The first season took place over three weeks at Grand Prairie Stadium in Grand Prairie, Texas, and Church Street Park in Morrisville, North Carolina, concluding on July 30, 2023. In 2021, the development league for MLC, Minor League Cricket (MiLC), completed its inaugural season, which was contested by 27 franchise-based teams.\\n\\n\\n\\nPage: Xbox Game Studios\\nSummary: Xbox Game Studios (previously known as Microsoft Studios, Microsoft Game Studios, and Microsoft Games) is an American video game publisher based in Redmond, Washington. It was established in March 2000, spun out from an internal Games Group, for the development and publishing of video games for Microsoft Windows. It has since expanded to include games and other interactive entertainment for the namesake Xbox platforms, other desktop operating systems, Windows Mobile and other mobile platforms, web-based portals, and other game consoles.\\nXbox Game Studios, alongside ZeniMax Media and Activision Blizzard, are part of the Microsoft Gaming division led by Phil Spencer, who is chief executive officer of the division.\\n- SEARCH_FILTER: Based on the search results:\\n\\n1. Satya Nadella is an Indian-American business executive who is the executive chairman and CEO of Microsoft.\\n2. Major League Cricket (MLC) is a professional Twenty20 cricket league in the United States.\\n3. Xbox Game Studios is an American video game publisher based in Redmond, Washington.\\n\\\"\\\"\\\"\\n\\nYour answer to the problem.\",\n",
      "    \"output\": \"Based on the information available, Satya Nadella, the CEO of Microsoft, is from India.\",\n",
      "    \"token_usage\": {\n",
      "      \"total_tokens\": 1092,\n",
      "      \"prompt_tokens\": 1072,\n",
      "      \"completion_tokens\": 20\n",
      "    }\n",
      "  }\n",
      "]\n",
      "Total tokens: 2579\n",
      "Based on the information available, Satya Nadella, the CEO of Microsoft, is from India.\n"
     ]
    },
    {
     "data": {
      "text/plain": "True"
     },
     "execution_count": 5,
     "metadata": {},
     "output_type": "execute_result"
    }
   ],
   "source": [
    "from app.states.rewrite_question.state import RewriteQuestionState\n",
    "import json\n",
    "\n",
    "from app.core.messages import Query\n",
    "from app.tools.langchain.wrapper import LangChainToolWrapper\n",
    "from langchain_community.tools import WikipediaQueryRun\n",
    "from langchain_community.utilities import WikipediaAPIWrapper\n",
    "\n",
    "user_name = \"user\"\n",
    "persona = Persona(description=\"You are a helpful assistant specializing in searching and filtering information.\")\n",
    "\n",
    "api_wrapper = WikipediaAPIWrapper(\n",
    "    top_k_results=3,\n",
    "    doc_content_chars_max=3000,\n",
    "    load_all_available_meta=True\n",
    ")\n",
    "tools = [\n",
    "    LangChainToolWrapper.create(WikipediaQueryRun(api_wrapper=api_wrapper))\n",
    "]\n",
    "\n",
    "rewrite_question_state = RewriteQuestionState(\n",
    "    next_state=States.SEARCH,\n",
    "    user_name=user_name,\n",
    "    generator=Generator(service=llm, use_json_model=False, temperature=0.1),\n",
    ")\n",
    "search_state = SearchState(\n",
    "    generator=Generator(service=llm, use_json_model=False, temperature=0.1),\n",
    "    tools=tools\n",
    ")\n",
    "search_filter_state = SearchFilterState(\n",
    "    generator=Generator(service=llm, use_json_model=False, temperature=0.1),\n",
    "    tools=tools\n",
    ")\n",
    "final_answer_state = FinalAnswerState(\n",
    "    generator=Generator(service=llm, temperature=0.3)\n",
    ")\n",
    "\n",
    "states = [rewrite_question_state, search_state, search_filter_state, final_answer_state]\n",
    "agent = ConversationalSearchAgent.start(\n",
    "    persona=persona,\n",
    "    memory=Memory(),\n",
    "    states=states,\n",
    "    default_initial_state=States.REWRITE_QUESTION,\n",
    "    clear_scratch_pad_after_answer=False,\n",
    "    clear_data_after_answer=False,\n",
    "    step_limit=6,\n",
    "    step_limit_state_name=States.FINAL_ANSWER\n",
    ")\n",
    "\n",
    "future = agent.ask(Query(initial_state=States.REWRITE_QUESTION,\n",
    "                         goal=\"Who is the CEO of Microsoft?\", from_caller=user_name))\n",
    "response = future.get(timeout=30)\n",
    "print(f\"Steps: {json.dumps([step.model_dump() for step in response.metadata['steps']], indent=2)}\")\n",
    "print(\n",
    "    f\"Total tokens: {sum((step.token_usage.total_tokens if step.token_usage is not None else 0) for step in response.metadata.get('steps', []))}\")\n",
    "print(response.final_output)\n",
    "\n",
    "future = agent.ask(Query(initial_state=States.REWRITE_QUESTION,\n",
    "                         goal=\"Where are they from?\", from_caller=user_name))\n",
    "response = future.get(timeout=30)\n",
    "print(f\"Steps: {json.dumps([step.model_dump() for step in response.metadata['steps']], indent=2)}\")\n",
    "print(\n",
    "    f\"Total tokens: {sum((step.token_usage.total_tokens if step.token_usage is not None else 0) for step in response.metadata.get('steps', []))}\")\n",
    "print(response.final_output)\n",
    "\n",
    "agent.stop()"
   ]
  },
  {
   "cell_type": "code",
   "execution_count": 6,
   "outputs": [
    {
     "name": "stdout",
     "output_type": "stream",
     "text": [
      "Requirement already satisfied: mermaid-py in c:\\users\\alexander\\appdata\\local\\pypoetry\\cache\\virtualenvs\\assemble-qevgtavi-py3.11\\lib\\site-packages (0.5.0)\n",
      "Requirement already satisfied: ipython<9.0.0,>=8.17.2 in c:\\users\\alexander\\appdata\\local\\pypoetry\\cache\\virtualenvs\\assemble-qevgtavi-py3.11\\lib\\site-packages (from mermaid-py) (8.24.0)\n",
      "Requirement already satisfied: requests<3.0.0,>=2.31.0 in c:\\users\\alexander\\appdata\\local\\pypoetry\\cache\\virtualenvs\\assemble-qevgtavi-py3.11\\lib\\site-packages (from mermaid-py) (2.31.0)\n",
      "Requirement already satisfied: decorator in c:\\users\\alexander\\appdata\\local\\pypoetry\\cache\\virtualenvs\\assemble-qevgtavi-py3.11\\lib\\site-packages (from ipython<9.0.0,>=8.17.2->mermaid-py) (5.1.1)\n",
      "Requirement already satisfied: jedi>=0.16 in c:\\users\\alexander\\appdata\\local\\pypoetry\\cache\\virtualenvs\\assemble-qevgtavi-py3.11\\lib\\site-packages (from ipython<9.0.0,>=8.17.2->mermaid-py) (0.19.1)\n",
      "Requirement already satisfied: matplotlib-inline in c:\\users\\alexander\\appdata\\local\\pypoetry\\cache\\virtualenvs\\assemble-qevgtavi-py3.11\\lib\\site-packages (from ipython<9.0.0,>=8.17.2->mermaid-py) (0.1.7)\n",
      "Requirement already satisfied: prompt-toolkit<3.1.0,>=3.0.41 in c:\\users\\alexander\\appdata\\local\\pypoetry\\cache\\virtualenvs\\assemble-qevgtavi-py3.11\\lib\\site-packages (from ipython<9.0.0,>=8.17.2->mermaid-py) (3.0.43)\n",
      "Requirement already satisfied: pygments>=2.4.0 in c:\\users\\alexander\\appdata\\local\\pypoetry\\cache\\virtualenvs\\assemble-qevgtavi-py3.11\\lib\\site-packages (from ipython<9.0.0,>=8.17.2->mermaid-py) (2.18.0)\n",
      "Requirement already satisfied: stack-data in c:\\users\\alexander\\appdata\\local\\pypoetry\\cache\\virtualenvs\\assemble-qevgtavi-py3.11\\lib\\site-packages (from ipython<9.0.0,>=8.17.2->mermaid-py) (0.6.3)\n",
      "Requirement already satisfied: traitlets>=5.13.0 in c:\\users\\alexander\\appdata\\local\\pypoetry\\cache\\virtualenvs\\assemble-qevgtavi-py3.11\\lib\\site-packages (from ipython<9.0.0,>=8.17.2->mermaid-py) (5.14.3)\n",
      "Requirement already satisfied: typing-extensions>=4.6 in c:\\users\\alexander\\appdata\\local\\pypoetry\\cache\\virtualenvs\\assemble-qevgtavi-py3.11\\lib\\site-packages (from ipython<9.0.0,>=8.17.2->mermaid-py) (4.11.0)\n",
      "Requirement already satisfied: colorama in c:\\users\\alexander\\appdata\\local\\pypoetry\\cache\\virtualenvs\\assemble-qevgtavi-py3.11\\lib\\site-packages (from ipython<9.0.0,>=8.17.2->mermaid-py) (0.4.6)\n",
      "Requirement already satisfied: charset-normalizer<4,>=2 in c:\\users\\alexander\\appdata\\local\\pypoetry\\cache\\virtualenvs\\assemble-qevgtavi-py3.11\\lib\\site-packages (from requests<3.0.0,>=2.31.0->mermaid-py) (3.3.2)\n",
      "Requirement already satisfied: idna<4,>=2.5 in c:\\users\\alexander\\appdata\\local\\pypoetry\\cache\\virtualenvs\\assemble-qevgtavi-py3.11\\lib\\site-packages (from requests<3.0.0,>=2.31.0->mermaid-py) (3.7)\n",
      "Requirement already satisfied: urllib3<3,>=1.21.1 in c:\\users\\alexander\\appdata\\local\\pypoetry\\cache\\virtualenvs\\assemble-qevgtavi-py3.11\\lib\\site-packages (from requests<3.0.0,>=2.31.0->mermaid-py) (2.2.1)\n",
      "Requirement already satisfied: certifi>=2017.4.17 in c:\\users\\alexander\\appdata\\local\\pypoetry\\cache\\virtualenvs\\assemble-qevgtavi-py3.11\\lib\\site-packages (from requests<3.0.0,>=2.31.0->mermaid-py) (2024.2.2)\n",
      "Requirement already satisfied: parso<0.9.0,>=0.8.3 in c:\\users\\alexander\\appdata\\local\\pypoetry\\cache\\virtualenvs\\assemble-qevgtavi-py3.11\\lib\\site-packages (from jedi>=0.16->ipython<9.0.0,>=8.17.2->mermaid-py) (0.8.4)\n",
      "Requirement already satisfied: wcwidth in c:\\users\\alexander\\appdata\\local\\pypoetry\\cache\\virtualenvs\\assemble-qevgtavi-py3.11\\lib\\site-packages (from prompt-toolkit<3.1.0,>=3.0.41->ipython<9.0.0,>=8.17.2->mermaid-py) (0.2.13)\n",
      "Requirement already satisfied: executing>=1.2.0 in c:\\users\\alexander\\appdata\\local\\pypoetry\\cache\\virtualenvs\\assemble-qevgtavi-py3.11\\lib\\site-packages (from stack-data->ipython<9.0.0,>=8.17.2->mermaid-py) (2.0.1)\n",
      "Requirement already satisfied: asttokens>=2.1.0 in c:\\users\\alexander\\appdata\\local\\pypoetry\\cache\\virtualenvs\\assemble-qevgtavi-py3.11\\lib\\site-packages (from stack-data->ipython<9.0.0,>=8.17.2->mermaid-py) (2.4.1)\n",
      "Requirement already satisfied: pure-eval in c:\\users\\alexander\\appdata\\local\\pypoetry\\cache\\virtualenvs\\assemble-qevgtavi-py3.11\\lib\\site-packages (from stack-data->ipython<9.0.0,>=8.17.2->mermaid-py) (0.2.2)\n",
      "Requirement already satisfied: six>=1.12.0 in c:\\users\\alexander\\appdata\\local\\pypoetry\\cache\\virtualenvs\\assemble-qevgtavi-py3.11\\lib\\site-packages (from asttokens>=2.1.0->stack-data->ipython<9.0.0,>=8.17.2->mermaid-py) (1.16.0)\n"
     ]
    },
    {
     "name": "stderr",
     "output_type": "stream",
     "text": [
      "\n",
      "[notice] A new release of pip is available: 23.3.1 -> 24.0\n",
      "[notice] To update, run: python.exe -m pip install --upgrade pip\n"
     ]
    }
   ],
   "source": [
    "!pip install mermaid-py"
   ],
   "metadata": {
    "collapsed": false,
    "ExecuteTime": {
     "end_time": "2024-05-07T23:33:28.384819900Z",
     "start_time": "2024-05-07T23:33:27.313508100Z"
    }
   }
  },
  {
   "cell_type": "code",
   "execution_count": 7,
   "outputs": [
    {
     "data": {
      "text/plain": "<mermaid._main.Mermaid at 0x9070a90>",
      "text/html": "<svg id=\"mermaid-svg\" width=\"100%\" xmlns=\"http://www.w3.org/2000/svg\" style=\"max-width: 122.21875px;\" viewBox=\"-8 -8 122.21875 302\" role=\"graphics-document document\" aria-roledescription=\"flowchart-v2\" xmlns:xlink=\"http://www.w3.org/1999/xlink\"><style xmlns=\"http://www.w3.org/1999/xhtml\">@import url(\"https://cdnjs.cloudflare.com/ajax/libs/font-awesome/6.5.2/css/all.min.css\");</style><style>#mermaid-svg{font-family:\"trebuchet ms\",verdana,arial,sans-serif;font-size:16px;fill:#333;}#mermaid-svg .error-icon{fill:#552222;}#mermaid-svg .error-text{fill:#552222;stroke:#552222;}#mermaid-svg .edge-thickness-normal{stroke-width:2px;}#mermaid-svg .edge-thickness-thick{stroke-width:3.5px;}#mermaid-svg .edge-pattern-solid{stroke-dasharray:0;}#mermaid-svg .edge-pattern-dashed{stroke-dasharray:3;}#mermaid-svg .edge-pattern-dotted{stroke-dasharray:2;}#mermaid-svg .marker{fill:#333333;stroke:#333333;}#mermaid-svg .marker.cross{stroke:#333333;}#mermaid-svg svg{font-family:\"trebuchet ms\",verdana,arial,sans-serif;font-size:16px;}#mermaid-svg .label{font-family:\"trebuchet ms\",verdana,arial,sans-serif;color:#333;}#mermaid-svg .cluster-label text{fill:#333;}#mermaid-svg .cluster-label span,#mermaid-svg p{color:#333;}#mermaid-svg .label text,#mermaid-svg span,#mermaid-svg p{fill:#333;color:#333;}#mermaid-svg .node rect,#mermaid-svg .node circle,#mermaid-svg .node ellipse,#mermaid-svg .node polygon,#mermaid-svg .node path{fill:#ECECFF;stroke:#9370DB;stroke-width:1px;}#mermaid-svg .flowchart-label text{text-anchor:middle;}#mermaid-svg .node .katex path{fill:#000;stroke:#000;stroke-width:1px;}#mermaid-svg .node .label{text-align:center;}#mermaid-svg .node.clickable{cursor:pointer;}#mermaid-svg .arrowheadPath{fill:#333333;}#mermaid-svg .edgePath .path{stroke:#333333;stroke-width:2.0px;}#mermaid-svg .flowchart-link{stroke:#333333;fill:none;}#mermaid-svg .edgeLabel{background-color:#e8e8e8;text-align:center;}#mermaid-svg .edgeLabel rect{opacity:0.5;background-color:#e8e8e8;fill:#e8e8e8;}#mermaid-svg .labelBkg{background-color:rgba(232, 232, 232, 0.5);}#mermaid-svg .cluster rect{fill:#ffffde;stroke:#aaaa33;stroke-width:1px;}#mermaid-svg .cluster text{fill:#333;}#mermaid-svg .cluster span,#mermaid-svg p{color:#333;}#mermaid-svg div.mermaidTooltip{position:absolute;text-align:center;max-width:200px;padding:2px;font-family:\"trebuchet ms\",verdana,arial,sans-serif;font-size:12px;background:hsl(80, 100%, 96.2745098039%);border:1px solid #aaaa33;border-radius:2px;pointer-events:none;z-index:100;}#mermaid-svg .flowchartTitleText{text-anchor:middle;font-size:18px;fill:#333;}#mermaid-svg :root{--mermaid-font-family:\"trebuchet ms\",verdana,arial,sans-serif;}#mermaid-svg .stateNode&gt;*{fill:#fff!important;stroke:#333!important;stroke-width:2px!important;color:#000!important;}#mermaid-svg .stateNode span{fill:#fff!important;stroke:#333!important;stroke-width:2px!important;color:#000!important;}#mermaid-svg .stateNode tspan{fill:#000!important;}</style><g><marker id=\"mermaid-svg_flowchart-pointEnd\" class=\"marker flowchart\" viewBox=\"0 0 10 10\" refX=\"6\" refY=\"5\" markerUnits=\"userSpaceOnUse\" markerWidth=\"12\" markerHeight=\"12\" orient=\"auto\"><path d=\"M 0 0 L 10 5 L 0 10 z\" class=\"arrowMarkerPath\" style=\"stroke-width: 1; stroke-dasharray: 1, 0;\"/></marker><marker id=\"mermaid-svg_flowchart-pointStart\" class=\"marker flowchart\" viewBox=\"0 0 10 10\" refX=\"4.5\" refY=\"5\" markerUnits=\"userSpaceOnUse\" markerWidth=\"12\" markerHeight=\"12\" orient=\"auto\"><path d=\"M 0 5 L 10 10 L 10 0 z\" class=\"arrowMarkerPath\" style=\"stroke-width: 1; stroke-dasharray: 1, 0;\"/></marker><marker id=\"mermaid-svg_flowchart-circleEnd\" class=\"marker flowchart\" viewBox=\"0 0 10 10\" refX=\"11\" refY=\"5\" markerUnits=\"userSpaceOnUse\" markerWidth=\"11\" markerHeight=\"11\" orient=\"auto\"><circle cx=\"5\" cy=\"5\" r=\"5\" class=\"arrowMarkerPath\" style=\"stroke-width: 1; stroke-dasharray: 1, 0;\"/></marker><marker id=\"mermaid-svg_flowchart-circleStart\" class=\"marker flowchart\" viewBox=\"0 0 10 10\" refX=\"-1\" refY=\"5\" markerUnits=\"userSpaceOnUse\" markerWidth=\"11\" markerHeight=\"11\" orient=\"auto\"><circle cx=\"5\" cy=\"5\" r=\"5\" class=\"arrowMarkerPath\" style=\"stroke-width: 1; stroke-dasharray: 1, 0;\"/></marker><marker id=\"mermaid-svg_flowchart-crossEnd\" class=\"marker cross flowchart\" viewBox=\"0 0 11 11\" refX=\"12\" refY=\"5.2\" markerUnits=\"userSpaceOnUse\" markerWidth=\"11\" markerHeight=\"11\" orient=\"auto\"><path d=\"M 1,1 l 9,9 M 10,1 l -9,9\" class=\"arrowMarkerPath\" style=\"stroke-width: 2; stroke-dasharray: 1, 0;\"/></marker><marker id=\"mermaid-svg_flowchart-crossStart\" class=\"marker cross flowchart\" viewBox=\"0 0 11 11\" refX=\"-1\" refY=\"5.2\" markerUnits=\"userSpaceOnUse\" markerWidth=\"11\" markerHeight=\"11\" orient=\"auto\"><path d=\"M 1,1 l 9,9 M 10,1 l -9,9\" class=\"arrowMarkerPath\" style=\"stroke-width: 2; stroke-dasharray: 1, 0;\"/></marker><g class=\"root\"><g class=\"clusters\"/><g class=\"edgePaths\"><path d=\"M53.109,34L53.109,38.167C53.109,42.333,53.109,50.667,53.109,58.117C53.109,65.567,53.109,72.133,53.109,75.417L53.109,78.7\" id=\"L-goal-search-0\" class=\" edge-thickness-normal edge-pattern-solid flowchart-link LS-goal LE-search\" style=\"fill:none;\" marker-end=\"url(#mermaid-svg_flowchart-pointEnd)\"/><path d=\"M53.109,118L53.109,122.167C53.109,126.333,53.109,134.667,53.109,142.117C53.109,149.567,53.109,156.133,53.109,159.417L53.109,162.7\" id=\"L-search-final_answer-0\" class=\" edge-thickness-normal edge-pattern-solid flowchart-link LS-search LE-final_answer\" style=\"fill:none;\" marker-end=\"url(#mermaid-svg_flowchart-pointEnd)\"/><path d=\"M53.109,202L53.109,206.167C53.109,210.333,53.109,218.667,53.109,226.117C53.109,233.567,53.109,240.133,53.109,243.417L53.109,246.7\" id=\"L-final_answer-exit-0\" class=\" edge-thickness-normal edge-pattern-solid flowchart-link LS-final_answer LE-exit\" style=\"fill:none;\" marker-end=\"url(#mermaid-svg_flowchart-pointEnd)\"/></g><g class=\"edgeLabels\"><g class=\"edgeLabel\"><g class=\"label\" transform=\"translate(0, 0)\"><foreignObject width=\"0\" height=\"0\"><div xmlns=\"http://www.w3.org/1999/xhtml\" style=\"display: inline-block; white-space: nowrap;\"><span class=\"edgeLabel\"></span></div></foreignObject></g></g><g class=\"edgeLabel\"><g class=\"label\" transform=\"translate(0, 0)\"><foreignObject width=\"0\" height=\"0\"><div xmlns=\"http://www.w3.org/1999/xhtml\" style=\"display: inline-block; white-space: nowrap;\"><span class=\"edgeLabel\"></span></div></foreignObject></g></g><g class=\"edgeLabel\"><g class=\"label\" transform=\"translate(0, 0)\"><foreignObject width=\"0\" height=\"0\"><div xmlns=\"http://www.w3.org/1999/xhtml\" style=\"display: inline-block; white-space: nowrap;\"><span class=\"edgeLabel\"></span></div></foreignObject></g></g></g><g class=\"nodes\"><g class=\"node default default flowchart-label\" id=\"flowchart-goal-0\" data-node=\"true\" data-id=\"goal\" transform=\"translate(53.109375, 17)\"><rect class=\"basic label-container\" style=\"\" rx=\"0\" ry=\"0\" x=\"-22.375\" y=\"-17\" width=\"44.75\" height=\"34\"/><g class=\"label\" style=\"\" transform=\"translate(-14.875, -9.5)\"><rect/><foreignObject width=\"29.75\" height=\"19\"><div xmlns=\"http://www.w3.org/1999/xhtml\" style=\"display: inline-block; white-space: nowrap;\"><span class=\"nodeLabel\">goal</span></div></foreignObject></g></g><g class=\"node default default flowchart-label\" id=\"flowchart-search-1\" data-node=\"true\" data-id=\"search\" transform=\"translate(53.109375, 101)\"><rect class=\"basic label-container\" style=\"\" rx=\"0\" ry=\"0\" x=\"-30.75\" y=\"-17\" width=\"61.5\" height=\"34\"/><g class=\"label\" style=\"\" transform=\"translate(-23.25, -9.5)\"><rect/><foreignObject width=\"46.5\" height=\"19\"><div xmlns=\"http://www.w3.org/1999/xhtml\" style=\"display: inline-block; white-space: nowrap;\"><span class=\"nodeLabel\">search</span></div></foreignObject></g></g><g class=\"node default default flowchart-label\" id=\"flowchart-final_answer-3\" data-node=\"true\" data-id=\"final_answer\" transform=\"translate(53.109375, 185)\"><rect class=\"basic label-container\" style=\"\" rx=\"0\" ry=\"0\" x=\"-53.109375\" y=\"-17\" width=\"106.21875\" height=\"34\"/><g class=\"label\" style=\"\" transform=\"translate(-45.609375, -9.5)\"><rect/><foreignObject width=\"91.21875\" height=\"19\"><div xmlns=\"http://www.w3.org/1999/xhtml\" style=\"display: inline-block; white-space: nowrap;\"><span class=\"nodeLabel\">final_answer</span></div></foreignObject></g></g><g class=\"node default default flowchart-label\" id=\"flowchart-exit-5\" data-node=\"true\" data-id=\"exit\" transform=\"translate(53.109375, 269)\"><rect class=\"basic label-container\" style=\"\" rx=\"0\" ry=\"0\" x=\"-21.328125\" y=\"-17\" width=\"42.65625\" height=\"34\"/><g class=\"label\" style=\"\" transform=\"translate(-13.828125, -9.5)\"><rect/><foreignObject width=\"27.65625\" height=\"19\"><div xmlns=\"http://www.w3.org/1999/xhtml\" style=\"display: inline-block; white-space: nowrap;\"><span class=\"nodeLabel\">exit</span></div></foreignObject></g></g></g></g></g></svg>"
     },
     "execution_count": 7,
     "metadata": {},
     "output_type": "execute_result"
    }
   ],
   "source": [
    "import mermaid as md\n",
    "from mermaid.graph import Graph\n",
    "\n",
    "graph: Graph = Graph('example', \"\"\"\n",
    "graph TD;\n",
    "    goal --> search\n",
    "    search --> final_answer\n",
    "    final_answer --> exit\n",
    "\n",
    "    classDef stateNode fill:#fff,stroke:#333,stroke-width:2px,color:#000;\n",
    "\"\"\")\n",
    "graphe: md.Mermaid = md.Mermaid(graph)\n",
    "graphe"
   ],
   "metadata": {
    "collapsed": false,
    "ExecuteTime": {
     "end_time": "2024-05-07T23:33:28.712233800Z",
     "start_time": "2024-05-07T23:33:28.360820100Z"
    }
   }
  }
 ],
 "metadata": {
  "kernelspec": {
   "display_name": "Python 3",
   "language": "python",
   "name": "python3"
  },
  "language_info": {
   "codemirror_mode": {
    "name": "ipython",
    "version": 2
   },
   "file_extension": ".py",
   "mimetype": "text/x-python",
   "name": "python",
   "nbconvert_exporter": "python",
   "pygments_lexer": "ipython2",
   "version": "2.7.6"
  }
 },
 "nbformat": 4,
 "nbformat_minor": 0
}
